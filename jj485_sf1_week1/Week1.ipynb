{
 "cells": [
  {
   "cell_type": "code",
   "execution_count": null,
   "metadata": {},
   "outputs": [],
   "source": [
    "import numpy as np\n",
    "import matplotlib.pyplot as plt\n",
    "%matplotlib notebook\n",
    "import time\n",
    "from scipy import signal\n",
    "from scipy.io import wavfile"
   ]
  },
  {
   "cell_type": "markdown",
   "metadata": {},
   "source": [
    "### Task 1"
   ]
  },
  {
   "cell_type": "code",
   "execution_count": null,
   "metadata": {},
   "outputs": [],
   "source": [
    "def dft(xt):\n",
    "    # extract data length, N\n",
    "    N = xt.size\n",
    "    # build a fourier matrix by multiplying appropriate matricies\n",
    "    k,l = np.meshgrid(np.arange(N), np.arange(N))\n",
    "    F = np.matmul(l, k) / N\n",
    "    # raise complex exponential to powers in F\n",
    "    w = np.exp(-2*np.pi*1j/N)\n",
    "    W = np.power(w, F)\n",
    "    # simple matrix multiplication to extract dft\n",
    "    Xw = np.matmul(W, xt)\n",
    "    \n",
    "    return Xw"
   ]
  },
  {
   "cell_type": "code",
   "execution_count": null,
   "metadata": {},
   "outputs": [],
   "source": [
    "x = np.random.normal(scale=1, size=100)+1j*np.random.normal(scale=1,size=100)"
   ]
  },
  {
   "cell_type": "code",
   "execution_count": null,
   "metadata": {},
   "outputs": [],
   "source": [
    "assert(dft(x).all() == np.fft.fft(x).all())"
   ]
  },
  {
   "cell_type": "markdown",
   "metadata": {},
   "source": [
    "### Task 2"
   ]
  },
  {
   "cell_type": "code",
   "execution_count": null,
   "metadata": {},
   "outputs": [],
   "source": [
    "t0 = time.time()\n",
    "dft(x);\n",
    "t1 = time.time()\n",
    "t1-t0"
   ]
  },
  {
   "cell_type": "code",
   "execution_count": null,
   "metadata": {},
   "outputs": [],
   "source": [
    "t0 = time.time()\n",
    "np.fft.fft(x);\n",
    "t1 = time.time()\n",
    "t1-t0"
   ]
  },
  {
   "cell_type": "code",
   "execution_count": null,
   "metadata": {},
   "outputs": [],
   "source": [
    "plt.figure()\n",
    "plt.plot(np.fft.fftshift(np.fft.fftfreq(100)), np.fft.fftshift(np.abs(np.fft.fft(x))))"
   ]
  },
  {
   "cell_type": "code",
   "execution_count": null,
   "metadata": {},
   "outputs": [],
   "source": [
    "Ns = np.array([i**2 for i in range(5, 45)])"
   ]
  },
  {
   "cell_type": "code",
   "execution_count": null,
   "metadata": {},
   "outputs": [],
   "source": [
    "dft_times = np.zeros(Ns.size)\n",
    "for i in range(Ns.size):\n",
    "    n = Ns[i]\n",
    "    xl = np.random.normal(size=n)+1j*np.random.normal(size=n)\n",
    "    t0 = time.time()\n",
    "    dft(xl)\n",
    "    t1 = time.time()\n",
    "    dft_times[i] = t1-t0"
   ]
  },
  {
   "cell_type": "code",
   "execution_count": null,
   "metadata": {},
   "outputs": [],
   "source": [
    "Nsf = np.array([i**2 for i in range(5, 500)])\n",
    "fft_times = np.zeros(Nsf.size)\n",
    "for i in range(Nsf.size):\n",
    "    n = Nsf[i]\n",
    "    xl = np.random.normal(size=n)+1j*np.random.normal(size=n)\n",
    "    t0 = time.time()\n",
    "    np.fft.fft(xl)\n",
    "    t1 = time.time()\n",
    "    fft_times[i] = t1-t0"
   ]
  },
  {
   "cell_type": "code",
   "execution_count": null,
   "metadata": {},
   "outputs": [],
   "source": [
    "plt.figure()\n",
    "plt.subplot(121)\n",
    "plt.plot(Ns, np.log(dft_times), label='DFT')\n",
    "plt.plot(Ns, np.log(fft_times[:dft_times.shape[0]]), label='FFT')\n",
    "plt.plot(Ns, np.log(Ns*Ns)-14, color='red', label='O(N^2)')\n",
    "plt.title('Times for N in [25, 2025]')\n",
    "plt.xlabel('Data length')\n",
    "plt.ylabel('log time')\n",
    "plt.legend()\n",
    "plt.subplot(122)\n",
    "plt.plot(Nsf, np.log(fft_times), color='#F39C12', label='Data')\n",
    "plt.plot(Nsf, np.log(Nsf*np.log(Nsf))-19, color='red', label='O(NlogN)')\n",
    "plt.legend()\n",
    "plt.title('FFT for N up to 250000')\n",
    "plt.xlabel('Data length')\n"
   ]
  },
  {
   "cell_type": "markdown",
   "metadata": {},
   "source": [
    "### Task 3"
   ]
  },
  {
   "cell_type": "code",
   "execution_count": null,
   "metadata": {},
   "outputs": [],
   "source": [
    "theta = 0.3*2*np.pi\n",
    "T = 1\n",
    "# window length\n",
    "M = 64\n",
    "# no of samples\n",
    "N = 1024\n",
    "t = np.arange(N)\n",
    "y = np.sin(t*theta/T)\n",
    "y2 = np.cos(t*theta/T)\n",
    "y3 = np.exp(1j*t*theta/T)\n",
    "wind = signal.windows.hamming(M)\n",
    "window_padded = np.pad(wind, (0, N-M))"
   ]
  },
  {
   "cell_type": "code",
   "execution_count": null,
   "metadata": {
    "scrolled": false
   },
   "outputs": [],
   "source": [
    "plt.figure()\n",
    "plt.subplot(212)\n",
    "plt.plot(t, y*window_padded)\n",
    "plt.subplot(211)\n",
    "plt.plot(t, y)"
   ]
  },
  {
   "cell_type": "code",
   "execution_count": null,
   "metadata": {},
   "outputs": [],
   "source": [
    "plt.figure()\n",
    "plt.subplot(311)\n",
    "plt.title('Hamming window: N = 1024, M = 64, theta = 0.3')\n",
    "plt.plot(np.fft.fftshift(np.fft.fftfreq(N)), np.fft.fftshift(np.log(np.abs(np.fft.fft(y*window_padded)))), label='sine')\n",
    "plt.legend(loc='upper left')\n",
    "plt.subplot(312)\n",
    "plt.ylabel('log spectral magnitude')\n",
    "plt.plot(np.fft.fftshift(np.fft.fftfreq(N)), np.fft.fftshift(np.log(np.abs(np.fft.fft(y2*window_padded)))), label='cosine')\n",
    "plt.legend(loc='upper left')\n",
    "plt.subplot(313)\n",
    "plt.xlabel('Normalised frequency')\n",
    "plt.plot(np.fft.fftshift(np.fft.fftfreq(N)), np.fft.fftshift(np.log(np.abs(np.fft.fft(y3*window_padded)))), label='exponential')\n",
    "plt.legend(loc='upper left')"
   ]
  },
  {
   "cell_type": "code",
   "execution_count": null,
   "metadata": {},
   "outputs": [],
   "source": [
    "theta1 = 0.15*2*np.pi\n",
    "theta2 = 0.3*2*np.pi\n",
    "theta3 = 0.45*2*np.pi\n",
    "y4 = np.sin(t*theta1/T)\n",
    "y5 = np.sin(t*theta2/T)\n",
    "y6 = np.sin(t*theta3/T)\n",
    "wind = signal.windows.hamming(M)\n",
    "window_padded = np.pad(wind, (0, N-M))"
   ]
  },
  {
   "cell_type": "code",
   "execution_count": null,
   "metadata": {},
   "outputs": [],
   "source": [
    "plt.figure()\n",
    "plt.subplot(311)\n",
    "plt.title('Hamming window: N = 1024, M = 64, Sine wave')\n",
    "plt.plot(np.fft.fftshift(np.fft.fftfreq(N)), np.fft.fftshift(np.log(np.abs(np.fft.fft(y4*window_padded)))), label='theta=0.15')\n",
    "plt.legend(loc='upper left')\n",
    "plt.subplot(312)\n",
    "plt.ylabel('log spectral magnitude')\n",
    "plt.plot(np.fft.fftshift(np.fft.fftfreq(N)), np.fft.fftshift(np.log(np.abs(np.fft.fft(y5*window_padded)))), label='theta=0.30')\n",
    "plt.legend(loc='upper left')\n",
    "plt.subplot(313)\n",
    "plt.xlabel('Normalised frequency')\n",
    "plt.plot(np.fft.fftshift(np.fft.fftfreq(N)), np.fft.fftshift(np.log(np.abs(np.fft.fft(y6*window_padded)))), label='theta=0.45')\n",
    "plt.legend(loc='upper left')"
   ]
  },
  {
   "cell_type": "code",
   "execution_count": null,
   "metadata": {},
   "outputs": [],
   "source": [
    "M1 = 32\n",
    "M2 = 64\n",
    "M3 = 128\n",
    "M4 = 512\n",
    "y7 = np.sin(t*theta/T)\n",
    "y8 = np.sin(t*theta/T)\n",
    "y9 = np.sin(t*theta/T)\n",
    "y10 = np.sin(t*theta/T)\n",
    "wind1 = signal.windows.hamming(M1)\n",
    "window_padded1 = np.pad(wind1, (0, N-M1))\n",
    "wind2 = signal.windows.hamming(M2)\n",
    "window_padded2 = np.pad(wind2, (0, N-M2))\n",
    "wind3 = signal.windows.hamming(M3)\n",
    "window_padded3= np.pad(wind3, (0, N-M3))\n",
    "wind4 = signal.windows.hamming(M4)\n",
    "window_padded4 = np.pad(wind4, (0, N-M4))"
   ]
  },
  {
   "cell_type": "code",
   "execution_count": null,
   "metadata": {},
   "outputs": [],
   "source": [
    "plt.figure()\n",
    "plt.subplot(411)\n",
    "plt.title('Hamming window: N = 1024, theta = 0.3, Sine wave')\n",
    "plt.plot(np.fft.fftshift(np.fft.fftfreq(N)), np.fft.fftshift(np.log(np.abs(np.fft.fft(y7*window_padded1)))), label='M=32')\n",
    "plt.legend(loc='upper left')\n",
    "plt.subplot(412)\n",
    "plt.plot(np.fft.fftshift(np.fft.fftfreq(N)), np.fft.fftshift(np.log(np.abs(np.fft.fft(y8*window_padded2)))), label='M=64')\n",
    "plt.legend(loc='upper left')\n",
    "plt.subplot(413)\n",
    "plt.ylabel('log spectral magnitude')\n",
    "plt.plot(np.fft.fftshift(np.fft.fftfreq(N)), np.fft.fftshift(np.log(np.abs(np.fft.fft(y9*window_padded3)))), label='M=128')\n",
    "plt.legend(loc='upper left')\n",
    "plt.subplot(414)\n",
    "plt.xlabel('Normalised frequency')\n",
    "plt.plot(np.fft.fftshift(np.fft.fftfreq(N)), np.fft.fftshift(np.log(np.abs(np.fft.fft(y10*window_padded4)))), label='M=512')\n",
    "plt.legend(loc='upper left')"
   ]
  },
  {
   "cell_type": "code",
   "execution_count": null,
   "metadata": {},
   "outputs": [],
   "source": [
    "y11 = np.sin(t*theta/T)\n",
    "window_padded11 = np.pad(signal.windows.boxcar(M), (0, N-M))\n",
    "window_padded12 = np.pad(signal.windows.hamming(M), (0, N-M))\n",
    "window_padded13 = np.pad(signal.windows.bartlett(M), (0, N-M))\n",
    "window_padded14 = np.pad(signal.windows.chebwin(M, at=60), (0, N-M))"
   ]
  },
  {
   "cell_type": "code",
   "execution_count": null,
   "metadata": {},
   "outputs": [],
   "source": [
    "plt.figure()\n",
    "plt.subplot(411)\n",
    "plt.title('N = 1024, M = 64, theta = 0.3, Sine wave')\n",
    "plt.plot(np.fft.fftshift(np.fft.fftfreq(N)), np.fft.fftshift(np.log(np.abs(np.fft.fft(y11*window_padded11)))), label='boxcar')\n",
    "plt.legend(loc='upper left')\n",
    "plt.subplot(412)\n",
    "plt.plot(np.fft.fftshift(np.fft.fftfreq(N)), np.fft.fftshift(np.log(np.abs(np.fft.fft(y11*window_padded12)))), label='hamming')\n",
    "plt.legend(loc='upper left')\n",
    "plt.subplot(413)\n",
    "plt.ylabel('log spectral magnitude')\n",
    "plt.plot(np.fft.fftshift(np.fft.fftfreq(N)), np.fft.fftshift(np.log(np.abs(np.fft.fft(y11*window_padded13)))), label='bartlett')\n",
    "plt.legend(loc='upper left')\n",
    "plt.subplot(414)\n",
    "plt.xlabel('Normalised frequency')\n",
    "plt.plot(np.fft.fftshift(np.fft.fftfreq(N)), np.fft.fftshift(np.log(np.abs(np.fft.fft(y11*window_padded14)))), label='chebwin')\n",
    "plt.legend(loc='upper left')"
   ]
  },
  {
   "cell_type": "markdown",
   "metadata": {},
   "source": [
    "### Task 4"
   ]
  },
  {
   "cell_type": "code",
   "execution_count": null,
   "metadata": {},
   "outputs": [],
   "source": [
    "y_c = y + np.sqrt(0.00001)*np.random.normal(size=N)+1\n",
    "y_c2 = y + np.sqrt(0.001)*np.random.normal(size=N)+1\n",
    "y_c3 = y + np.sqrt(0.1)*np.random.normal(size=N)\n",
    "y_c4 = y + np.sqrt(1.)*np.random.normal(size=N)"
   ]
  },
  {
   "cell_type": "code",
   "execution_count": null,
   "metadata": {},
   "outputs": [],
   "source": [
    "plt.figure()\n",
    "plt.subplot(211)\n",
    "plt.plot(t, y_c)\n",
    "plt.subplot(212)\n",
    "plt.plot(t, y_c*window_padded)"
   ]
  },
  {
   "cell_type": "code",
   "execution_count": null,
   "metadata": {},
   "outputs": [],
   "source": [
    "plt.figure()\n",
    "plt.subplot(221)\n",
    "plt.title('Hamming window, N=1024, M=64, theta=0.3')\n",
    "plt.plot(np.fft.fftshift(np.fft.fftfreq(N)), np.fft.fftshift(np.log(np.abs(np.fft.fft(y_c*window_padded)))), label='mean=1,var=0.00001')\n",
    "plt.legend(loc='lower left')\n",
    "plt.subplot(222)\n",
    "plt.plot(np.fft.fftshift(np.fft.fftfreq(N)), np.fft.fftshift(np.log(np.abs(np.fft.fft(y_c2*window_padded)))), label='mean=1,var=0.001')\n",
    "plt.legend(loc='lower left')\n",
    "plt.subplot(223)\n",
    "plt.plot(np.fft.fftshift(np.fft.fftfreq(N)), np.fft.fftshift(np.log(np.abs(np.fft.fft(y_c3*window_padded)))), label='mean=0,var=0.1')\n",
    "plt.legend(loc='lower left')\n",
    "plt.ylabel('log spectral magnitude')\n",
    "plt.xlabel('Normalised frequency')\n",
    "plt.subplot(224)\n",
    "plt.plot(np.fft.fftshift(np.fft.fftfreq(N)), np.fft.fftshift(np.log(np.abs(np.fft.fft(y_c4*window_padded)))), label='mean=0,var=1')\n",
    "plt.legend(loc='lower left')\n",
    "plt.xlabel('Normalised frequency')"
   ]
  },
  {
   "cell_type": "markdown",
   "metadata": {},
   "source": [
    "### Task 5"
   ]
  },
  {
   "cell_type": "code",
   "execution_count": null,
   "metadata": {},
   "outputs": [],
   "source": [
    "A = 0.01\n",
    "B = 0.01\n",
    "an = A*t + B\n",
    "an2 = t+100\n",
    "yn = an * np.exp(1j * theta * t)\n",
    "yn2 = an2 * np.exp(1j * theta * t)"
   ]
  },
  {
   "cell_type": "code",
   "execution_count": null,
   "metadata": {},
   "outputs": [],
   "source": [
    "plt.figure()\n",
    "plt.xlabel('Normalised frequency')\n",
    "plt.ylabel('log spectral magnitude')\n",
    "plt.plot(np.fft.fftshift(np.fft.fftfreq(N)), np.fft.fftshift(np.log(np.abs(np.fft.fft(np.exp(1j * theta * t)*window_padded)))))"
   ]
  },
  {
   "cell_type": "code",
   "execution_count": null,
   "metadata": {},
   "outputs": [],
   "source": [
    "plt.figure()\n",
    "plt.xlabel('Normalised frequency')\n",
    "plt.ylabel('log spectral magnitude')\n",
    "plt.plot(np.fft.fftshift(np.fft.fftfreq(N)), np.fft.fftshift(np.log(np.abs(np.fft.fft(yn*window_padded)))))"
   ]
  },
  {
   "cell_type": "code",
   "execution_count": null,
   "metadata": {},
   "outputs": [],
   "source": [
    "plt.figure()\n",
    "plt.xlabel('Normalised frequency')\n",
    "plt.ylabel('log spectral magnitude')\n",
    "plt.plot(np.fft.fftshift(np.fft.fftfreq(N)), np.fft.fftshift(np.log(np.abs(np.fft.fft(yn2*window_padded)))))"
   ]
  },
  {
   "cell_type": "code",
   "execution_count": null,
   "metadata": {},
   "outputs": [],
   "source": [
    "beta = 0.05\n",
    "phi = 0.2\n",
    "bn = 1 + beta * np.sin(phi*t)\n",
    "zn = bn * np.exp(1j * theta * t)\n",
    "zn2 = (1 + 0.05*np.sin(0.5*t))*np.exp(1j * theta * t)"
   ]
  },
  {
   "cell_type": "code",
   "execution_count": null,
   "metadata": {},
   "outputs": [],
   "source": [
    "plt.figure()\n",
    "plt.xlabel('Normalised frequency')\n",
    "plt.ylabel('log spectral magnitude')\n",
    "plt.plot(np.fft.fftshift(np.fft.fftfreq(N)), np.fft.fftshift(np.log(np.abs(np.fft.fft(zn*window_padded)))))"
   ]
  },
  {
   "cell_type": "code",
   "execution_count": null,
   "metadata": {},
   "outputs": [],
   "source": [
    "plt.figure()\n",
    "plt.xlabel('Normalised frequency')\n",
    "plt.ylabel('log spectral magnitude')\n",
    "plt.plot(np.fft.fftshift(np.fft.fftfreq(N)), np.fft.fftshift(np.log(np.abs(np.fft.fft(zn2*window_padded)))))"
   ]
  },
  {
   "cell_type": "code",
   "execution_count": null,
   "metadata": {},
   "outputs": [],
   "source": [
    "cn = np.zeros(N)\n",
    "cn[0] = 0\n",
    "for i in range(1, N):\n",
    "    cn[i] = cn[i-1] + np.sqrt(0.1)*np.random.normal()"
   ]
  },
  {
   "cell_type": "code",
   "execution_count": null,
   "metadata": {},
   "outputs": [],
   "source": [
    "plt.figure()\n",
    "plt.plot(t, cn)"
   ]
  },
  {
   "cell_type": "code",
   "execution_count": null,
   "metadata": {},
   "outputs": [],
   "source": [
    "xn = cn * np.exp(1j * theta * t)\n",
    "plt.figure()\n",
    "plt.plot(t, xn.real, label='R')\n",
    "plt.plot(t, xn.imag, label='I')\n",
    "plt.legend()"
   ]
  },
  {
   "cell_type": "code",
   "execution_count": null,
   "metadata": {},
   "outputs": [],
   "source": [
    "plt.figure()\n",
    "plt.xlabel('Normalised frequency')\n",
    "plt.ylabel('log spectral magnitude')\n",
    "plt.plot(np.fft.fftshift(np.fft.fftfreq(N)), np.fft.fftshift(np.log(np.abs(np.fft.fft(xn*window_padded)))))"
   ]
  },
  {
   "cell_type": "markdown",
   "metadata": {},
   "source": [
    "### Task 6"
   ]
  },
  {
   "cell_type": "code",
   "execution_count": null,
   "metadata": {},
   "outputs": [],
   "source": [
    "samplerate, data = wavfile.read('./resources/week1/network.wav')\n",
    "data_trunc = data[:1323000]\n",
    "length = data_trunc.shape[0] / samplerate"
   ]
  },
  {
   "cell_type": "code",
   "execution_count": null,
   "metadata": {},
   "outputs": [],
   "source": [
    "length"
   ]
  },
  {
   "cell_type": "code",
   "execution_count": null,
   "metadata": {},
   "outputs": [],
   "source": [
    "wavfile.write('./resources/week1/network_30s.wav', samplerate, data_trunc)"
   ]
  },
  {
   "cell_type": "code",
   "execution_count": null,
   "metadata": {},
   "outputs": [],
   "source": [
    "axis = np.linspace(0., length, data_trunc.shape[0])\n",
    "plt.figure()\n",
    "plt.subplot(211)\n",
    "plt.plot(axis, data_trunc[:,0], label='Left')\n",
    "plt.title('Left Channel')\n",
    "plt.subplot(212)\n",
    "plt.plot(axis, data_trunc[:,1], label='Right')\n",
    "plt.title('Right Channel')"
   ]
  },
  {
   "cell_type": "code",
   "execution_count": null,
   "metadata": {},
   "outputs": [],
   "source": [
    "bass_transient = data[15418980:15423975]\n",
    "wavfile.write('./resources/week1/bass_transient.wav', samplerate, bass_transient)\n",
    "bass_minus_mean = bass_transient - np.mean(bass_transient)"
   ]
  },
  {
   "cell_type": "code",
   "execution_count": null,
   "metadata": {},
   "outputs": [],
   "source": [
    "axis = np.linspace(0., bass_transient.shape[0]/samplerate, bass_transient.shape[0])\n",
    "plt.figure()\n",
    "plt.plot(axis, bass_minus_mean[:,0], label='Left')\n",
    "plt.plot(axis, bass_minus_mean[:,1], label='Right')\n",
    "plt.legend()"
   ]
  },
  {
   "cell_type": "code",
   "execution_count": null,
   "metadata": {},
   "outputs": [],
   "source": [
    "snare_transient = data[8859690:8883945]\n",
    "wavfile.write('./resources/week1/snare_transient.wav', samplerate, snare_transient)\n",
    "snare_minus_mean = snare_transient - np.mean(snare_transient)"
   ]
  },
  {
   "cell_type": "code",
   "execution_count": null,
   "metadata": {},
   "outputs": [],
   "source": [
    "axis = np.linspace(0., snare_transient.shape[0]/samplerate, snare_transient.shape[0])\n",
    "plt.figure()\n",
    "plt.plot(axis, snare_transient[:,0], label='Left')\n",
    "plt.plot(axis, snare_transient[:,1], label='Right')\n",
    "plt.legend()"
   ]
  },
  {
   "cell_type": "code",
   "execution_count": null,
   "metadata": {},
   "outputs": [],
   "source": [
    "steady_note = data[9225279:9234540]\n",
    "wavfile.write('./resources/week1/steady_note.wav', samplerate, steady_note)\n",
    "note_minus_mean0 = steady_note[:,0] - np.mean(steady_note[:,0])\n",
    "note_minus_mean1 = steady_note[:,1] - np.mean(steady_note[:,1])"
   ]
  },
  {
   "cell_type": "code",
   "execution_count": null,
   "metadata": {},
   "outputs": [],
   "source": [
    "axis = np.linspace(0., steady_note.shape[0]/samplerate, steady_note.shape[0])\n",
    "plt.figure()\n",
    "plt.plot(axis, steady_note[:,0], label='Left')\n",
    "plt.plot(axis, steady_note[:,1], label='Right')\n",
    "plt.legend()"
   ]
  },
  {
   "cell_type": "code",
   "execution_count": null,
   "metadata": {},
   "outputs": [],
   "source": [
    "ma_sound = data[15841161:15848658]\n",
    "wavfile.write('./resources/week1/ma_sound.wav', samplerate, ma_sound)"
   ]
  },
  {
   "cell_type": "code",
   "execution_count": null,
   "metadata": {},
   "outputs": [],
   "source": [
    "axis = np.linspace(0., ma_sound.shape[0]/samplerate, ma_sound.shape[0])\n",
    "plt.figure()\n",
    "plt.plot(axis, ma_sound[:,0], label='Left')\n",
    "plt.plot(axis, ma_sound[:,1], label='Right')\n",
    "plt.legend()"
   ]
  },
  {
   "cell_type": "code",
   "execution_count": null,
   "metadata": {},
   "outputs": [],
   "source": [
    "th_sound = data[15677550:15681960]\n",
    "wavfile.write('./resources/week1/th_sound.wav', samplerate, th_sound)"
   ]
  },
  {
   "cell_type": "code",
   "execution_count": null,
   "metadata": {},
   "outputs": [],
   "source": [
    "axis = np.linspace(0., th_sound.shape[0]/samplerate, th_sound.shape[0])\n",
    "plt.figure()\n",
    "plt.plot(axis, th_sound[:,0], label='Left')\n",
    "plt.plot(axis, th_sound[:,1], label='Right')\n",
    "plt.legend()"
   ]
  },
  {
   "cell_type": "markdown",
   "metadata": {},
   "source": [
    "### Task 7"
   ]
  },
  {
   "cell_type": "code",
   "execution_count": null,
   "metadata": {},
   "outputs": [],
   "source": [
    "N_bass = bass_transient.shape[0]\n",
    "M_bass = 60\n",
    "bass_window = signal.windows.hamming(M_bass)\n",
    "bass_window_padded = np.pad(bass_window, (0, N_bass-M_bass))\n",
    "N_bass"
   ]
  },
  {
   "cell_type": "code",
   "execution_count": null,
   "metadata": {
    "scrolled": false
   },
   "outputs": [],
   "source": [
    "fig, ((ax1, ax2), (ax3, ax4)) = plt.subplots(2, 2, constrained_layout=True, sharey=False)\n",
    "axis = np.linspace(0., bass_transient.shape[0]/samplerate, bass_transient.shape[0])\n",
    "ax1.plot(axis, bass_transient[:,0], 'r')\n",
    "ax2.plot(axis, bass_transient[:,1], 'g')\n",
    "ax1.set_title('Left channel')\n",
    "ax2.set_title('Right channel')\n",
    "ax1.set_xlabel('time( s)')\n",
    "ax2.set_xlabel('time (s)')\n",
    "ax1.set_ylabel('amplitude')\n",
    "\n",
    "\n",
    "ax3.plot(np.fft.fftshift(np.fft.fftfreq(N_bass)), np.fft.fftshift(np.log(np.abs(np.fft.fft(bass_window_padded * bass_transient[:,0])))), 'r')\n",
    "ax4.plot(np.fft.fftshift(np.fft.fftfreq(N_bass)), np.fft.fftshift(np.log(np.abs(np.fft.fft(bass_window_padded * bass_transient[:,1])))), 'g')\n",
    "ax3.set_xlabel('Normalised frequency')\n",
    "ax4.set_xlabel('Normalised frequency')\n",
    "ax3.set_ylabel('log spectral magnitude')\n",
    "fig.suptitle('{} samples, length {} window'.format(N_bass, M_bass), fontsize=16)"
   ]
  },
  {
   "cell_type": "code",
   "execution_count": null,
   "metadata": {},
   "outputs": [],
   "source": [
    "N_snare = snare_transient.shape[0]\n",
    "M_snare = 32\n",
    "snare_window = signal.windows.blackmanharris(M_snare)\n",
    "snare_window_padded = np.pad(snare_window, (0, N_snare-M_snare))\n",
    "N_snare"
   ]
  },
  {
   "cell_type": "code",
   "execution_count": null,
   "metadata": {},
   "outputs": [],
   "source": [
    "plt.figure()\n",
    "plt.subplot(121)\n",
    "plt.plot(np.fft.fftshift(np.fft.fftfreq(N_snare)), np.fft.fftshift(np.log(np.abs(np.fft.fft(snare_window_padded * snare_transient[:,0])))))\n",
    "plt.subplot(122)\n",
    "plt.plot(np.fft.fftshift(np.fft.fftfreq(N_snare)), np.fft.fftshift(np.log(np.abs(np.fft.fft(snare_window_padded * snare_transient[:,1])))))"
   ]
  },
  {
   "cell_type": "code",
   "execution_count": null,
   "metadata": {},
   "outputs": [],
   "source": [
    "N_steady = steady_note.shape[0]\n",
    "M_steady = 42\n",
    "steady_window = signal.windows.blackmanharris(M_steady)\n",
    "steady_window_padded = np.pad(steady_window, (0, N_steady-M_steady))\n",
    "N_steady"
   ]
  },
  {
   "cell_type": "code",
   "execution_count": null,
   "metadata": {},
   "outputs": [],
   "source": [
    "fig, ((ax1, ax2), (ax3, ax4)) = plt.subplots(2, 2, constrained_layout=True, sharey=False)\n",
    "axis = np.linspace(0., steady_note.shape[0]/samplerate, steady_note.shape[0])\n",
    "ax1.plot(axis, steady_note[:,0], 'r')\n",
    "ax2.plot(axis, steady_note[:,1], 'g')\n",
    "ax1.set_title('Left channel')\n",
    "ax2.set_title('Right channel')\n",
    "ax1.set_xlabel('time( s)')\n",
    "ax2.set_xlabel('time (s)')\n",
    "ax1.set_ylabel('amplitude')\n",
    "\n",
    "\n",
    "ax3.plot(np.fft.fftshift(np.fft.fftfreq(N_steady)), np.fft.fftshift(np.log(np.abs(np.fft.fft(steady_window_padded * steady_note[:,0])))), 'r')\n",
    "ax4.plot(np.fft.fftshift(np.fft.fftfreq(N_steady)), np.fft.fftshift(np.log(np.abs(np.fft.fft(steady_window_padded * steady_note[:,1])))), 'g')\n",
    "ax3.set_xlabel('Normalised frequency')\n",
    "ax4.set_xlabel('Normalised frequency')\n",
    "ax3.set_ylabel('log spectral magnitude')\n",
    "fig.suptitle('{} samples, length {} window'.format(N_steady, M_steady), fontsize=16)"
   ]
  },
  {
   "cell_type": "code",
   "execution_count": null,
   "metadata": {},
   "outputs": [],
   "source": [
    "N_ma = ma_sound.shape[0]\n",
    "M_ma = 40\n",
    "ma_window = signal.windows.blackmanharris(M_ma)\n",
    "ma_window_padded = np.pad(ma_window, (0, N_ma-M_ma))"
   ]
  },
  {
   "cell_type": "code",
   "execution_count": null,
   "metadata": {},
   "outputs": [],
   "source": [
    "fig, ((ax1, ax2), (ax3, ax4)) = plt.subplots(2, 2, constrained_layout=True, sharey=False)\n",
    "axis = np.linspace(0., ma_sound.shape[0]/samplerate, ma_sound.shape[0])\n",
    "ax1.plot(axis, ma_sound[:,0], 'r')\n",
    "ax2.plot(axis, ma_sound[:,1], 'g')\n",
    "ax1.set_title('Left channel')\n",
    "ax2.set_title('Right channel')\n",
    "ax1.set_xlabel('time( s)')\n",
    "ax2.set_xlabel('time (s)')\n",
    "ax1.set_ylabel('amplitude')\n",
    "\n",
    "\n",
    "ax3.plot(np.fft.fftshift(np.fft.fftfreq(N_ma)), np.fft.fftshift(np.log(np.abs(np.fft.fft(ma_window_padded * ma_sound[:,0])))), 'r')\n",
    "ax4.plot(np.fft.fftshift(np.fft.fftfreq(N_ma)), np.fft.fftshift(np.log(np.abs(np.fft.fft(ma_window_padded * ma_sound[:,1])))), 'g')\n",
    "ax3.set_xlabel('Normalised frequency')\n",
    "ax4.set_xlabel('Normalised frequency')\n",
    "ax3.set_ylabel('log spectral magnitude')\n",
    "fig.suptitle('{} samples, length {} window'.format(N_ma, M_ma), fontsize=16)"
   ]
  },
  {
   "cell_type": "code",
   "execution_count": null,
   "metadata": {},
   "outputs": [],
   "source": [
    "N_th = th_sound.shape[0]\n",
    "M_th = 46\n",
    "th_window = signal.windows.blackmanharris(M_th)\n",
    "th_window_padded = np.pad(th_window, (0, N_th-M_th))"
   ]
  },
  {
   "cell_type": "code",
   "execution_count": null,
   "metadata": {
    "scrolled": false
   },
   "outputs": [],
   "source": [
    "fig, ((ax1, ax2), (ax3, ax4)) = plt.subplots(2, 2, constrained_layout=True, sharey=False)\n",
    "axis = np.linspace(0., th_sound.shape[0]/samplerate, th_sound.shape[0])\n",
    "ax1.plot(axis, th_sound[:,0], 'r')\n",
    "ax2.plot(axis, th_sound[:,1], 'g')\n",
    "ax1.set_title('Left channel')\n",
    "ax2.set_title('Right channel')\n",
    "ax1.set_xlabel('time( s)')\n",
    "ax2.set_xlabel('time (s)')\n",
    "ax1.set_ylabel('amplitude')\n",
    "\n",
    "\n",
    "ax3.plot(np.fft.fftshift(np.fft.fftfreq(N_th)), np.fft.fftshift(np.log(np.abs(np.fft.fft(th_window_padded * th_sound[:,0])))), 'r')\n",
    "ax4.plot(np.fft.fftshift(np.fft.fftfreq(N_th)), np.fft.fftshift(np.log(np.abs(np.fft.fft(th_window_padded * th_sound[:,1])))), 'g')\n",
    "ax3.set_xlabel('Normalised frequency')\n",
    "ax4.set_xlabel('Normalised frequency')\n",
    "ax3.set_ylabel('log spectral magnitude')\n",
    "fig.suptitle('{} samples, length {} window'.format(N_th, M_th), fontsize=16)"
   ]
  },
  {
   "cell_type": "markdown",
   "metadata": {},
   "source": [
    "### Task 8"
   ]
  },
  {
   "cell_type": "code",
   "execution_count": null,
   "metadata": {},
   "outputs": [],
   "source": [
    "organrate, organ = wavfile.read('./resources/w12res/organ.wav')\n",
    "N_organ = organ.shape[0]"
   ]
  },
  {
   "cell_type": "code",
   "execution_count": null,
   "metadata": {},
   "outputs": [],
   "source": [
    "organ_axis = np.arange(N_organ)\n",
    "M_organ = 85\n",
    "N_organ"
   ]
  },
  {
   "cell_type": "code",
   "execution_count": null,
   "metadata": {},
   "outputs": [],
   "source": [
    "organ_window = signal.windows.blackmanharris(M_organ)\n",
    "organ_window_padded = np.pad(organ_window, (0, N_organ-M_organ))"
   ]
  },
  {
   "cell_type": "code",
   "execution_count": null,
   "metadata": {},
   "outputs": [],
   "source": [
    "fig, ((ax1), (ax2)) = plt.subplots(1, 2, constrained_layout=True, sharey=False)\n",
    "\n",
    "ax1.plot(np.fft.fftshift(np.fft.fftfreq(N_organ)), np.fft.fftshift(np.log(np.abs(np.fft.fft(organ_window_padded * organ[:,0])))))\n",
    "ax2.plot(np.fft.fftshift(np.fft.fftfreq(N_organ)), np.fft.fftshift(np.log(np.abs(np.fft.fft(organ_window_padded * organ[:,1])))))\n",
    "ax1.set_xlabel('Normalised frequency')\n",
    "ax2.set_xlabel('Normalised frequency')\n",
    "ax1.set_ylabel('log spectral magnitude')\n",
    "ax1.set_title('Left channel')\n",
    "ax2.set_title('Right channel')\n",
    "fig.suptitle('{} samples, length {} window'.format(N_organ, M_organ), fontsize=16)"
   ]
  },
  {
   "cell_type": "markdown",
   "metadata": {},
   "source": [
    "### Further stuff"
   ]
  },
  {
   "cell_type": "code",
   "execution_count": null,
   "metadata": {},
   "outputs": [],
   "source": [
    "pianorate, piano = wavfile.read('./resources/w12res/piano/piano_clean.wav')\n",
    "N_piano = piano.shape[0]"
   ]
  },
  {
   "cell_type": "code",
   "execution_count": null,
   "metadata": {},
   "outputs": [],
   "source": [
    "piano_axis = np.arange(N_piano)\n",
    "M_piano = 64\n",
    "N_piano"
   ]
  },
  {
   "cell_type": "code",
   "execution_count": null,
   "metadata": {},
   "outputs": [],
   "source": [
    "piano_window = signal.windows.hamming(M_piano)\n",
    "piano_window_padded = np.pad(piano_window, (0, N_piano-M_piano))"
   ]
  },
  {
   "cell_type": "code",
   "execution_count": null,
   "metadata": {},
   "outputs": [],
   "source": [
    "fig, ax1 = plt.subplots(1, 1, constrained_layout=True, sharey=False)\n",
    "\n",
    "ax1.plot(np.fft.fftshift(np.fft.fftfreq(N_piano)), np.fft.fftshift(np.log(np.abs(np.fft.fft(piano_window_padded * piano)))))\n",
    "ax1.set_xlabel('Normalised frequency')\n",
    "ax1.set_ylabel('log spectral magnitude')\n",
    "ax1.set_title('Left channel')\n",
    "fig.suptitle('{} samples, length {} window'.format(N_piano, M_piano), fontsize=16)"
   ]
  },
  {
   "cell_type": "code",
   "execution_count": null,
   "metadata": {},
   "outputs": [],
   "source": [
    "pianorate2, piano2 = wavfile.read('./resources/w12res/piano/piano_cleaned.wav')"
   ]
  },
  {
   "cell_type": "code",
   "execution_count": null,
   "metadata": {},
   "outputs": [],
   "source": [
    "fig, ax1 = plt.subplots(1, 1, constrained_layout=True, sharey=False)\n",
    "\n",
    "ax1.plot(np.fft.fftshift(np.fft.fftfreq(N_piano)), np.fft.fftshift(np.log(np.abs(np.fft.fft(piano_window_padded * piano2)))))\n",
    "ax1.set_xlabel('Normalised frequency')\n",
    "ax1.set_ylabel('log spectral magnitude')\n",
    "ax1.set_title('Left channel')\n",
    "fig.suptitle('{} samples, length {} window'.format(N_piano, M_piano), fontsize=16)"
   ]
  },
  {
   "cell_type": "code",
   "execution_count": null,
   "metadata": {},
   "outputs": [],
   "source": []
  }
 ],
 "metadata": {
  "kernelspec": {
   "display_name": "Python 3",
   "language": "python",
   "name": "python3"
  },
  "language_info": {
   "codemirror_mode": {
    "name": "ipython",
    "version": 3
   },
   "file_extension": ".py",
   "mimetype": "text/x-python",
   "name": "python",
   "nbconvert_exporter": "python",
   "pygments_lexer": "ipython3",
   "version": "3.7.6"
  }
 },
 "nbformat": 4,
 "nbformat_minor": 4
}
