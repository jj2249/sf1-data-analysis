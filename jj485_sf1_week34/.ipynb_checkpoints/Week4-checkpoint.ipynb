{
 "cells": [
  {
   "cell_type": "code",
   "execution_count": null,
   "metadata": {},
   "outputs": [],
   "source": [
    "import numpy as np\n",
    "import matplotlib.pyplot as plt\n",
    "%matplotlib notebook\n",
    "from scipy.io import wavfile\n",
    "import os\n",
    "#import control.pzmap as pzm\n",
    "#from control import TransferFunction"
   ]
  },
  {
   "cell_type": "code",
   "execution_count": null,
   "metadata": {},
   "outputs": [],
   "source": [
    "cwd = os.getcwd() + '/'"
   ]
  },
  {
   "cell_type": "markdown",
   "metadata": {},
   "source": [
    "## Auto-regressive (AR) models"
   ]
  },
  {
   "cell_type": "code",
   "execution_count": null,
   "metadata": {},
   "outputs": [],
   "source": [
    "N = 10000\n",
    "axis = np.arange(N)\n",
    "ssq_e = 1"
   ]
  },
  {
   "cell_type": "code",
   "execution_count": null,
   "metadata": {},
   "outputs": [],
   "source": [
    "def AR(alpha, sigma, num, is_init_vals=False, initial_values=None):\n",
    "    # order of AR model\n",
    "    P = alpha.shape[0]\n",
    "    # observation vector\n",
    "    data = np.zeros(num)\n",
    "    # first P values must be defined for the model to work correctly\n",
    "    # default to zero initial values\n",
    "    if is_init_vals:\n",
    "        data[:P] = initial_values\n",
    "    else:\n",
    "        data[:P] = np.zeros(P)\n",
    "    # iterate over all data points following the initial values\n",
    "    for i in range(P, num):\n",
    "        term = 0\n",
    "        # sum over all P coefficients\n",
    "        for j in range(1, P+1):\n",
    "            term += alpha[j-1]*data[i-j]\n",
    "        # add innovation term\n",
    "        term += sigma*np.random.normal(size=1)\n",
    "        data[i] = term\n",
    "    return data"
   ]
  },
  {
   "cell_type": "code",
   "execution_count": null,
   "metadata": {},
   "outputs": [],
   "source": [
    "P = 150\n",
    "coeffs = np.random.normal(0, 0.04, P)"
   ]
  },
  {
   "cell_type": "code",
   "execution_count": null,
   "metadata": {},
   "outputs": [],
   "source": [
    "def plot_poles(coefficients, samps=1000):\n",
    "    polynom = np.pad(-coefficients, (1, 0), mode='constant', constant_values=1)\n",
    "    poles_f = np.roots(polynom).astype(np.complex128)\n",
    "    fig, ax = plt.subplots()\n",
    "    ax.set_box_aspect(aspect=1.)\n",
    "    t = np.linspace(0, 2*np.pi, 1000)\n",
    "    ax.plot(np.cos(t), np.sin(t))\n",
    "    ax.scatter(poles_f.real, poles_f.imag, marker='X', linewidth=0.05)\n",
    "    ax.scatter(0, 0, marker='o', linewidth=0.05)\n",
    "    ax.grid(b=True, linewidth=0.1)\n",
    "    plt.xlim(-2, 2)\n",
    "    plt.ylim(-2, 2)\n",
    "    plt.title('Largest pole: {}'.format(np.max(np.abs(poles_f))))\n",
    "    return poles_f\n",
    "poles = plot_poles(coeffs)\n",
    "poles"
   ]
  },
  {
   "cell_type": "code",
   "execution_count": null,
   "metadata": {},
   "outputs": [],
   "source": [
    "X = AR(coeffs, np.sqrt(ssq_e), N, is_init_vals=False, initial_values=np.random.normal(size=coeffs.shape[0]))"
   ]
  },
  {
   "cell_type": "code",
   "execution_count": null,
   "metadata": {},
   "outputs": [],
   "source": [
    "plt.figure()\n",
    "plt.plot(axis, X)\n",
    "plt.title('AR {}. Coefficients: {}'.format(P, coeffs))\n",
    "plt.xlabel('n')\n",
    "plt.ylabel('Xn')"
   ]
  },
  {
   "cell_type": "code",
   "execution_count": null,
   "metadata": {},
   "outputs": [],
   "source": [
    "plt.figure()\n",
    "plt.plot(np.fft.fftshift(np.fft.fftfreq(N-P)), ((np.square(np.abs(np.fft.fftshift(np.fft.fft(X[P:])))))))\n",
    "plt.xlabel('Normalised frequency')\n",
    "plt.ylabel('Squared magnitude')\n",
    "plt.title('Squared DFT components of AR filter')"
   ]
  },
  {
   "cell_type": "markdown",
   "metadata": {},
   "source": [
    "## Maximum likelihood"
   ]
  },
  {
   "cell_type": "code",
   "execution_count": null,
   "metadata": {},
   "outputs": [],
   "source": [
    "P_est = P"
   ]
  },
  {
   "cell_type": "code",
   "execution_count": null,
   "metadata": {},
   "outputs": [],
   "source": [
    "def build_AR_matrix(data, p):\n",
    "    # retrieve n for matrix dimension\n",
    "    n = data.shape[0]\n",
    "    # initialise G as (n-p)x(p) matrix\n",
    "    mat = np.zeros((n-p,p))\n",
    "    # build matrix column-wise, taking observations from data\n",
    "    for i in range(p):\n",
    "        mat[:,i] = data[p-i-1:n-i-1]\n",
    "    return mat"
   ]
  },
  {
   "cell_type": "code",
   "execution_count": null,
   "metadata": {},
   "outputs": [],
   "source": [
    "def get_alpha_ml(data, P_estimate):\n",
    "    data_trunc = data[P_estimate:]\n",
    "    G_mat = build_AR_matrix(data, P_estimate)\n",
    "    return np.matmul(np.matmul(np.linalg.inv(np.matmul(G_mat.T, G_mat)), G_mat.T), data_trunc)"
   ]
  },
  {
   "cell_type": "code",
   "execution_count": null,
   "metadata": {},
   "outputs": [],
   "source": [
    "alpha_ML = get_alpha_ml(X, P_est)"
   ]
  },
  {
   "cell_type": "code",
   "execution_count": null,
   "metadata": {},
   "outputs": [],
   "source": [
    "X_ml = np.matmul(build_AR_matrix(X, P_est), alpha_ML)"
   ]
  },
  {
   "cell_type": "code",
   "execution_count": null,
   "metadata": {},
   "outputs": [],
   "source": [
    "plt.figure()\n",
    "plt.plot(np.arange(N), X, label='true')\n",
    "plt.plot(np.arange(N)[P_est:], np.roll(X_ml, -1), label='estimated')\n",
    "plt.legend()"
   ]
  },
  {
   "cell_type": "code",
   "execution_count": null,
   "metadata": {},
   "outputs": [],
   "source": [
    "np.mean(np.square(X[P_est:]-X_ml))"
   ]
  },
  {
   "cell_type": "markdown",
   "metadata": {},
   "source": [
    "## Bayesian"
   ]
  },
  {
   "cell_type": "code",
   "execution_count": null,
   "metadata": {},
   "outputs": [],
   "source": [
    "m_a = 1000*np.ones(P_est)\n",
    "ssq_a = 1\n",
    "inv_Covar_a = np.linalg.inv(ssq_a * np.eye(P_est))\n",
    "m_a_true = 0*np.ones(P_est)\n",
    "ssq_a_true = 0\n",
    "inv_Covar_a_true = np.linalg.inv(ssq_a * np.eye(P_est))"
   ]
  },
  {
   "cell_type": "code",
   "execution_count": null,
   "metadata": {},
   "outputs": [],
   "source": [
    "def get_alpha_map(data, P_estimate, noise_variance, prior_mean, inv_prior_covar):\n",
    "    data_trunc = data[P_estimate:]\n",
    "    G_mat = build_AR_matrix(data, P_estimate)\n",
    "    Phi = np.matmul(G_mat.T, G_mat) + noise_variance*inv_prior_covar\n",
    "    Theta = np.matmul(G_mat.T, data_trunc) + noise_variance*np.matmul(inv_prior_covar, prior_mean)\n",
    "    return np.matmul(np.linalg.inv(Phi), Theta)"
   ]
  },
  {
   "cell_type": "code",
   "execution_count": null,
   "metadata": {},
   "outputs": [],
   "source": [
    "alpha_MAP = get_alpha_map(X, P_est, ssq_e, m_a, inv_Covar_a)\n",
    "alpha_MAP_true = get_alpha_map(X, P_est, ssq_e, m_a_true, inv_Covar_a_true)"
   ]
  },
  {
   "cell_type": "code",
   "execution_count": null,
   "metadata": {},
   "outputs": [],
   "source": [
    "X_map = np.matmul(build_AR_matrix(X, P_est), alpha_MAP)\n",
    "X_map_true = np.matmul(build_AR_matrix(X, P_est), alpha_MAP_true)"
   ]
  },
  {
   "cell_type": "code",
   "execution_count": null,
   "metadata": {},
   "outputs": [],
   "source": [
    "plt.figure()\n",
    "plt.subplot(311)\n",
    "plt.plot(np.arange(N), X)\n",
    "plt.plot(np.arange(start=-1, stop=N-1)[P_est:], X_ml)\n",
    "plt.title('Estimated processes. Blue: True, Orange: Estimated')\n",
    "plt.ylabel('ML')\n",
    "plt.subplot(312)\n",
    "plt.plot(np.arange(N), X)\n",
    "plt.plot(np.arange(start=-1, stop=N-1)[P_est:], X_map_true)\n",
    "plt.ylabel('True MAP')\n",
    "plt.subplot(313)\n",
    "plt.plot(np.arange(N), X)\n",
    "plt.plot(np.arange(start=-1, stop=N-1)[P_est:], X_map)\n",
    "plt.xlabel('n')\n",
    "plt.ylabel('Adjusted MAP')"
   ]
  },
  {
   "cell_type": "code",
   "execution_count": null,
   "metadata": {},
   "outputs": [],
   "source": [
    "#np.mean(np.square(X[P_est:]-np.roll(X_ml, -1)))\n",
    "np.mean(np.square(X[P_est:]-X_ml))"
   ]
  },
  {
   "cell_type": "code",
   "execution_count": null,
   "metadata": {},
   "outputs": [],
   "source": [
    "#np.mean(np.square(X[P_est:]-np.roll(X_map, -1))\n",
    "np.mean(np.square(X[P_est:]-X_map))"
   ]
  },
  {
   "cell_type": "code",
   "execution_count": null,
   "metadata": {},
   "outputs": [],
   "source": [
    "#np.mean(np.square(X[P_est:]-np.roll(X_map_true, -1)))\n",
    "np.mean(np.square(X[P_est:]-X_map_true))"
   ]
  },
  {
   "cell_type": "code",
   "execution_count": null,
   "metadata": {},
   "outputs": [],
   "source": [
    "def get_log_model_evidence(data, noise_variance, prior_mean, inv_prior_covar, Gen):\n",
    "    p_est = Gen.shape[1]\n",
    "    data_trunc = data[p_est:]\n",
    "    Num_samps = data_trunc.shape[0]\n",
    "    phi = np.matmul(Gen.T, Gen) + noise_variance * inv_prior_covar\n",
    "    theta = np.matmul(Gen.T, data_trunc) + noise_variance * np.matmul(inv_prior_covar, prior_mean)\n",
    "    th_map = np.matmul(np.linalg.inv(phi), theta)\n",
    "    sign_C, log_det_C_inv = np.linalg.slogdet(inv_prior_covar)\n",
    "    sign_P, log_det_phi = np.linalg.slogdet(phi)\n",
    "    \n",
    "    t1 = -Num_samps*np.log(2*np.pi)/2\n",
    "    t2 = sign_C*log_det_C_inv/2\n",
    "    t3 = -sign_P*log_det_phi/2\n",
    "    t4 = -(Num_samps-2)*np.log(noise_variance)/2\n",
    "    \n",
    "    t5 = np.sum(np.square(data_trunc))\n",
    "    t6 = noise_variance * np.linalg.multi_dot((prior_mean, inv_prior_covar, prior_mean))\n",
    "    t7 = np.matmul(theta.T, th_map)\n",
    "    \n",
    "    \n",
    "    return t1+t2+t3+t4 - (t5+t6-t7)/(2*noise_variance)"
   ]
  },
  {
   "cell_type": "code",
   "execution_count": null,
   "metadata": {},
   "outputs": [],
   "source": [
    "evidences = np.zeros(200)\n",
    "for i in range(200):\n",
    "    prior_m = 1*np.ones(i+1)\n",
    "    prior_c_inv = np.linalg.inv(ssq_a * np.eye(i+1))\n",
    "    gi = build_AR_matrix(X, i+1)\n",
    "    evidences[i] = get_log_model_evidence(X, ssq_e, 100*prior_m, 1*prior_c_inv, gi)\n",
    "np.argmax(evidences) + 1"
   ]
  },
  {
   "cell_type": "code",
   "execution_count": null,
   "metadata": {},
   "outputs": [],
   "source": [
    "plt.figure()\n",
    "plt.plot(np.arange(1, 200+1), evidences)\n",
    "plt.xlabel('Model order')\n",
    "plt.ylabel('Log model evidence')\n",
    "plt.title('Evidences for true prior parameters')"
   ]
  },
  {
   "cell_type": "code",
   "execution_count": null,
   "metadata": {},
   "outputs": [],
   "source": [
    "mean_sq_errors = np.zeros(300)\n",
    "for i in range(300):\n",
    "    gi = build_AR_matrix(X, i+1)\n",
    "    #mean_sq_errors[i] = np.mean(np.square(X[i+1:] - np.roll(np.matmul(gi, get_alpha_ml(X, i+1)), -1)))\n",
    "    mean_sq_errors[i] = np.mean(np.square(X[i+1:] - np.matmul(gi, get_alpha_ml(X, i+1))))\n",
    "\n",
    "plt.figure()\n",
    "plt.plot(np.arange(300), mean_sq_errors)\n",
    "plt.xlabel('Model order')\n",
    "plt.ylabel('Mean squared residual error')\n",
    "plt.title('True model order: {}'.format(P))"
   ]
  },
  {
   "cell_type": "code",
   "execution_count": null,
   "metadata": {},
   "outputs": [],
   "source": [
    "plt.figure()\n",
    "plt.subplot(211)\n",
    "plt.plot(np.arange(X[P_est:].shape[0]), np.square(X[P_est:]-np.roll(X_ml, -1)))\n",
    "plt.subplot(212)\n",
    "plt.plot(np.arange(X[P_est:].shape[0]), np.square(X[P_est:]-X_map))"
   ]
  },
  {
   "cell_type": "markdown",
   "metadata": {},
   "source": [
    "### Bayesian model choice for real audio"
   ]
  },
  {
   "cell_type": "code",
   "execution_count": null,
   "metadata": {},
   "outputs": [],
   "source": [
    "samplerate, grosse = wavfile.read(cwd+'resources/sample audio/grosse_original.wav')\n",
    "grosse = grosse.astype(np.float64)"
   ]
  },
  {
   "cell_type": "code",
   "execution_count": null,
   "metadata": {},
   "outputs": [],
   "source": [
    "steady_note = grosse[0:int(samplerate*0.351)]"
   ]
  },
  {
   "cell_type": "code",
   "execution_count": null,
   "metadata": {},
   "outputs": [],
   "source": [
    "wavfile.write(cwd+'resources/sample audio/grosse_note.wav', samplerate, steady_note.astype(np.int16))"
   ]
  },
  {
   "cell_type": "code",
   "execution_count": null,
   "metadata": {},
   "outputs": [],
   "source": [
    "steady_note.shape"
   ]
  },
  {
   "cell_type": "code",
   "execution_count": null,
   "metadata": {},
   "outputs": [],
   "source": [
    "def estimate_model_order(data, noise_variance, prior_param_mean, prior_param_variance, P_range, P_step=1):\n",
    "    # P_range should be a two tuple, also (delta P_range % P_step = 0) for proper operation\n",
    "    evidences_f = np.zeros(int((P_range[1]-P_range[0])/P_step))\n",
    "    P_vals = np.arange(P_range[0], P_range[1], step=P_step)\n",
    "    #print(P_vals)\n",
    "    for i in range(evidences_f.shape[0]):\n",
    "        p_i = P_vals[i]\n",
    "        prior_m = prior_param_mean * np.ones(p_i)\n",
    "        prior_c_inv = np.linalg.inv(prior_param_variance * np.eye(p_i))\n",
    "        gi = build_AR_matrix(data, p_i)\n",
    "        evidences_f[i] = get_log_model_evidence(data, noise_variance, prior_m, prior_c_inv, gi)\n",
    "    #print(evidences_f)\n",
    "    return P_vals[np.argmax(evidences_f)]"
   ]
  },
  {
   "cell_type": "code",
   "execution_count": null,
   "metadata": {},
   "outputs": [],
   "source": [
    "def plot_errors(data, P_range, P_step = 1):\n",
    "    errors_f = np.zeros(int((P_range[1]-P_range[0])/P_step))\n",
    "    P_vals = np.arange(P_range[0], P_range[1], step=P_step)\n",
    "\n",
    "    for i in range(errors_f.shape[0]):\n",
    "        p_i = P_vals[i]\n",
    "        gi = build_AR_matrix(data, p_i)\n",
    "        errors_f[i] = np.mean(np.square(data[p_i:] - np.matmul(gi, get_alpha_ml(data, p_i))))\n",
    "\n",
    "    plt.figure()\n",
    "    plt.plot(np.arange(start=P_range[0], stop=P_range[1], step=P_step), errors_f)\n",
    "    plt.xlabel('Model order')\n",
    "    plt.ylabel('Mean squared residual error')"
   ]
  },
  {
   "cell_type": "code",
   "execution_count": null,
   "metadata": {},
   "outputs": [],
   "source": [
    "plot_errors(steady_note, (1, 101))"
   ]
  },
  {
   "cell_type": "code",
   "execution_count": null,
   "metadata": {},
   "outputs": [],
   "source": [
    "estimate_model_order(steady_note, 4, 0, 1, (200, 310), P_step=10)"
   ]
  },
  {
   "cell_type": "code",
   "execution_count": null,
   "metadata": {},
   "outputs": [],
   "source": [
    "alpha_ml_st = get_alpha_ml(steady_note, 4)"
   ]
  },
  {
   "cell_type": "code",
   "execution_count": null,
   "metadata": {},
   "outputs": [],
   "source": [
    "plot_poles(alpha_ml_st)"
   ]
  },
  {
   "cell_type": "code",
   "execution_count": null,
   "metadata": {},
   "outputs": [],
   "source": [
    "X_ml_st = np.matmul(build_AR_matrix(steady_note, 4), alpha_ml_st)\n",
    "X_ml_st"
   ]
  },
  {
   "cell_type": "code",
   "execution_count": null,
   "metadata": {},
   "outputs": [],
   "source": [
    "wavfile.write(cwd+'resources/sample audio/steady_note_arproc_300.wav', samplerate, X_ml_st.astype(np.int16))"
   ]
  },
  {
   "cell_type": "code",
   "execution_count": null,
   "metadata": {},
   "outputs": [],
   "source": [
    "np.mean(np.square(X_ml_st - steady_note[4:]))"
   ]
  },
  {
   "cell_type": "code",
   "execution_count": null,
   "metadata": {},
   "outputs": [],
   "source": [
    "estimate_model_order(steady_note, 113, 0, 1, (110, 810), P_step=10)"
   ]
  },
  {
   "cell_type": "code",
   "execution_count": null,
   "metadata": {},
   "outputs": [],
   "source": [
    "alpha_ml_st = get_alpha_ml(steady_note, 250)"
   ]
  },
  {
   "cell_type": "code",
   "execution_count": null,
   "metadata": {},
   "outputs": [],
   "source": [
    "plot_poles(alpha_ml_st)"
   ]
  },
  {
   "cell_type": "code",
   "execution_count": null,
   "metadata": {},
   "outputs": [],
   "source": [
    "X_ml_st = np.matmul(build_AR_matrix(steady_note, 250), alpha_ml_st)\n",
    "X_ml_st.shape"
   ]
  },
  {
   "cell_type": "code",
   "execution_count": null,
   "metadata": {},
   "outputs": [],
   "source": [
    "wavfile.write(cwd+'resources/sample audio/steady_note_arproc_300.wav', samplerate, X_ml_st.astype(np.int16))"
   ]
  },
  {
   "cell_type": "code",
   "execution_count": null,
   "metadata": {},
   "outputs": [],
   "source": [
    "np.mean(np.square(X_ml_st - steady_note[250:]))"
   ]
  },
  {
   "cell_type": "code",
   "execution_count": null,
   "metadata": {},
   "outputs": [],
   "source": [
    "plt.figure()\n",
    "plt.subplot(211)\n",
    "plt.title('Steady note spectrum. Model order: {}'.format(4))\n",
    "plt.plot(np.fft.fftshift(np.fft.fftfreq(X_ml_st.shape[0])), np.log((np.square(np.abs(np.fft.fftshift(np.fft.fft(steady_note[4:])))))))\n",
    "plt.ylabel('True spectrum')\n",
    "plt.subplot(212)\n",
    "plt.plot(np.fft.fftshift(np.fft.fftfreq(X_ml_st.shape[0])), np.log((np.square(np.abs(np.fft.fftshift(np.fft.fft(X_ml_st)))))))\n",
    "plt.xlabel('Normalised frequency')\n",
    "plt.ylabel('ML estimate')"
   ]
  },
  {
   "cell_type": "markdown",
   "metadata": {},
   "source": [
    "### 'Network' steady note"
   ]
  },
  {
   "cell_type": "code",
   "execution_count": null,
   "metadata": {},
   "outputs": [],
   "source": [
    "network_rate, nwst = wavfile.read(cwd+'resources/sample audio/ma_sound.wav')\n",
    "nwst = nwst.astype(np.float64)\n",
    "nwst_l = nwst[:,0]\n",
    "nwst_r = nwst[:,1]"
   ]
  },
  {
   "cell_type": "code",
   "execution_count": null,
   "metadata": {},
   "outputs": [],
   "source": [
    "estimate_model_order(nwst_l, 4, 0, 1, (10, 510), P_step=10)"
   ]
  },
  {
   "cell_type": "code",
   "execution_count": null,
   "metadata": {},
   "outputs": [],
   "source": [
    "alpha_ml_nwst_l = get_alpha_ml(nwst_l, 500)\n",
    "X_ml_nwst_l = np.matmul(build_AR_matrix(nwst_l, 500), alpha_ml_nwst_l)"
   ]
  },
  {
   "cell_type": "code",
   "execution_count": null,
   "metadata": {},
   "outputs": [],
   "source": [
    "np.mean(np.square(X_ml_nwst_l - nwst_l[500:]))"
   ]
  },
  {
   "cell_type": "code",
   "execution_count": null,
   "metadata": {},
   "outputs": [],
   "source": [
    "estimate_model_order(nwst_l, 355354, 0, 1, (1, 41), P_step=1)"
   ]
  },
  {
   "cell_type": "code",
   "execution_count": null,
   "metadata": {},
   "outputs": [],
   "source": [
    "alpha_ml_nwst_l = get_alpha_ml(nwst_l, 29)\n",
    "X_ml_nwst_l = np.matmul(build_AR_matrix(nwst_l, 29), alpha_ml_nwst_l)"
   ]
  },
  {
   "cell_type": "code",
   "execution_count": null,
   "metadata": {},
   "outputs": [],
   "source": [
    "np.mean(np.square(X_ml_nwst_l - nwst_l[29:]))"
   ]
  },
  {
   "cell_type": "code",
   "execution_count": null,
   "metadata": {},
   "outputs": [],
   "source": [
    "estimate_model_order(nwst_l, 416522, 0, 1, (1, 41), P_step=1)"
   ]
  },
  {
   "cell_type": "code",
   "execution_count": null,
   "metadata": {},
   "outputs": [],
   "source": [
    "plt.figure()\n",
    "plt.subplot(211)\n",
    "plt.plot(np.fft.fftshift(np.fft.fftfreq(X_ml_nwst_l.shape[0])), np.log((np.square(np.abs(np.fft.fftshift(np.fft.fft(nwst_l[29:])))))))\n",
    "plt.subplot(212)\n",
    "plt.plot(np.fft.fftshift(np.fft.fftfreq(X_ml_nwst_l.shape[0])), np.log((np.square(np.abs(np.fft.fftshift(np.fft.fft(X_ml_nwst_l)))))))"
   ]
  },
  {
   "cell_type": "code",
   "execution_count": null,
   "metadata": {},
   "outputs": [],
   "source": [
    "estimate_model_order(nwst_r, 4, 0, 1, (10, 510), P_step=10)"
   ]
  },
  {
   "cell_type": "code",
   "execution_count": null,
   "metadata": {},
   "outputs": [],
   "source": [
    "alpha_ml_nwst_r = get_alpha_ml(nwst_r, 500)\n",
    "X_ml_nwst_r = np.matmul(build_AR_matrix(nwst_r, 500), alpha_ml_nwst_r)"
   ]
  },
  {
   "cell_type": "code",
   "execution_count": null,
   "metadata": {},
   "outputs": [],
   "source": [
    "np.mean(np.square(X_ml_nwst_r - nwst_r[500:]))"
   ]
  },
  {
   "cell_type": "code",
   "execution_count": null,
   "metadata": {},
   "outputs": [],
   "source": [
    "estimate_model_order(nwst_r, 237190, 0, 1, (20, 70), P_step=1)"
   ]
  },
  {
   "cell_type": "code",
   "execution_count": null,
   "metadata": {},
   "outputs": [],
   "source": [
    "alpha_ml_nwst_r = get_alpha_ml(nwst_r, 48)\n",
    "X_ml_nwst_r = np.matmul(build_AR_matrix(nwst_r, 48), alpha_ml_nwst_r)"
   ]
  },
  {
   "cell_type": "code",
   "execution_count": null,
   "metadata": {},
   "outputs": [],
   "source": [
    "np.mean(np.square(X_ml_nwst_r - nwst_r[48:]))"
   ]
  },
  {
   "cell_type": "code",
   "execution_count": null,
   "metadata": {},
   "outputs": [],
   "source": [
    "estimate_model_order(nwst_r, 283655, 0, 1, (20, 70), P_step=1)"
   ]
  },
  {
   "cell_type": "code",
   "execution_count": null,
   "metadata": {},
   "outputs": [],
   "source": [
    "alpha_ml_nwst_r = get_alpha_ml(nwst_r, 47)\n",
    "X_ml_nwst_r = np.matmul(build_AR_matrix(nwst_r, 47), alpha_ml_nwst_r)"
   ]
  },
  {
   "cell_type": "code",
   "execution_count": null,
   "metadata": {},
   "outputs": [],
   "source": [
    "np.mean(np.square(X_ml_nwst_r - nwst_r[47:]))"
   ]
  },
  {
   "cell_type": "code",
   "execution_count": null,
   "metadata": {},
   "outputs": [],
   "source": [
    "estimate_model_order(nwst_r, 283655, 0, 1, (20, 70), P_step=1)"
   ]
  },
  {
   "cell_type": "code",
   "execution_count": null,
   "metadata": {},
   "outputs": [],
   "source": [
    "X_ml_nwst_r.shape, X_ml_nwst_l.shape"
   ]
  },
  {
   "cell_type": "code",
   "execution_count": null,
   "metadata": {},
   "outputs": [],
   "source": [
    "plt.figure()\n",
    "plt.subplot(211)\n",
    "plt.plot(np.fft.fftshift(np.fft.fftfreq(X_ml_nwst_r.shape[0])), np.log((np.square(np.abs(np.fft.fftshift(np.fft.fft(nwst_r[47:])))))))\n",
    "plt.subplot(212)\n",
    "plt.plot(np.fft.fftshift(np.fft.fftfreq(X_ml_nwst_r.shape[0])), np.log((np.square(np.abs(np.fft.fftshift(np.fft.fft(X_ml_nwst_r)))))))"
   ]
  },
  {
   "cell_type": "code",
   "execution_count": null,
   "metadata": {},
   "outputs": [],
   "source": [
    "X_ml_nwst_r = np.pad(X_ml_nwst_r, (0, X_ml_nwst_l.shape[0]-X_ml_nwst_r.shape[0]))\n",
    "nwst_ar_proc = np.vstack((X_ml_nwst_l, X_ml_nwst_r)).T\n",
    "wavfile.write(cwd+'resources/sample audio/nwst_ar_proc.wav', network_rate, nwst_ar_proc.astype(np.int16))"
   ]
  },
  {
   "cell_type": "markdown",
   "metadata": {},
   "source": [
    "### 'Network' snare transient"
   ]
  },
  {
   "cell_type": "code",
   "execution_count": null,
   "metadata": {},
   "outputs": [],
   "source": [
    "_, nwsnare = wavfile.read(cwd+'resources/sample audio/snare_transient.wav')\n",
    "nwsnare = nwsnare.astype(np.float64)\n",
    "nwsnare_l = nwsnare[:,0]\n",
    "nwsnare_r = nwsnare[:,1]"
   ]
  },
  {
   "cell_type": "code",
   "execution_count": null,
   "metadata": {},
   "outputs": [],
   "source": [
    "estimate_model_order(nwsnare_l, 4, 0, 1, (10, 510), P_step=10)"
   ]
  },
  {
   "cell_type": "code",
   "execution_count": null,
   "metadata": {},
   "outputs": [],
   "source": [
    "alpha_ml_nwsnare_l = get_alpha_ml(nwsnare_l, 500)\n",
    "X_ml_nwsnare_l = np.matmul(build_AR_matrix(nwsnare_l, 500), alpha_ml_nwsnare_l)"
   ]
  },
  {
   "cell_type": "code",
   "execution_count": null,
   "metadata": {},
   "outputs": [],
   "source": [
    "np.mean(np.square(X_ml_nwsnare_l - nwsnare_l[500:]))"
   ]
  },
  {
   "cell_type": "code",
   "execution_count": null,
   "metadata": {},
   "outputs": [],
   "source": [
    "estimate_model_order(nwsnare_l, 236665, 0, 1, (1700, 1850), P_step=10)"
   ]
  },
  {
   "cell_type": "code",
   "execution_count": null,
   "metadata": {},
   "outputs": [],
   "source": [
    "nwsnare_l.shape"
   ]
  },
  {
   "cell_type": "code",
   "execution_count": null,
   "metadata": {},
   "outputs": [],
   "source": [
    "alpha_ml_nwsnare_l = get_alpha_ml(nwsnare_l, 1760)\n",
    "X_ml_nwsnare_l = np.matmul(build_AR_matrix(nwsnare_l, 1760), alpha_ml_nwsnare_l)"
   ]
  },
  {
   "cell_type": "code",
   "execution_count": null,
   "metadata": {},
   "outputs": [],
   "source": [
    "np.mean(np.square(X_ml_nwsnare_l - nwsnare_l[1760:]))"
   ]
  },
  {
   "cell_type": "code",
   "execution_count": null,
   "metadata": {},
   "outputs": [],
   "source": [
    "estimate_model_order(nwsnare_l, 61558, 0, 1, (1, 20), P_step=1)"
   ]
  },
  {
   "cell_type": "code",
   "execution_count": null,
   "metadata": {},
   "outputs": [],
   "source": [
    "alpha_ml_nwsnare_l = get_alpha_ml(nwsnare_l, 2568)\n",
    "X_ml_nwsnare_l = np.matmul(build_AR_matrix(nwsnare_l, 2568), alpha_ml_nwsnare_l)"
   ]
  },
  {
   "cell_type": "code",
   "execution_count": null,
   "metadata": {},
   "outputs": [],
   "source": [
    "np.mean(np.square(X_ml_nwsnare_l - nwsnare_l[2568:]))"
   ]
  },
  {
   "cell_type": "code",
   "execution_count": null,
   "metadata": {},
   "outputs": [],
   "source": [
    "estimate_model_order(nwsnare_l, 26194, 0, 1, (3280, 3292), P_step=1)"
   ]
  },
  {
   "cell_type": "code",
   "execution_count": null,
   "metadata": {},
   "outputs": [],
   "source": [
    "alpha_ml_nwsnare_l = get_alpha_ml(nwsnare_l, 3287)\n",
    "X_ml_nwsnare_l = np.matmul(build_AR_matrix(nwsnare_l, 3287), alpha_ml_nwsnare_l)"
   ]
  },
  {
   "cell_type": "code",
   "execution_count": null,
   "metadata": {},
   "outputs": [],
   "source": [
    "np.mean(np.square(X_ml_nwsnare_l - nwsnare_l[3287:]))"
   ]
  },
  {
   "cell_type": "code",
   "execution_count": null,
   "metadata": {},
   "outputs": [],
   "source": [
    "estimate_model_order(nwsnare_l, 15275, 0, 1, (3490, 3510), P_step=1)"
   ]
  },
  {
   "cell_type": "code",
   "execution_count": null,
   "metadata": {},
   "outputs": [],
   "source": [
    "alpha_ml_nwsnare_l = get_alpha_ml(nwsnare_l, 3504)\n",
    "X_ml_nwsnare_l = np.matmul(build_AR_matrix(nwsnare_l, 3504), alpha_ml_nwsnare_l)"
   ]
  },
  {
   "cell_type": "code",
   "execution_count": null,
   "metadata": {},
   "outputs": [],
   "source": [
    "np.mean(np.square(X_ml_nwsnare_l - nwsnare_l[3504:]))"
   ]
  },
  {
   "cell_type": "code",
   "execution_count": null,
   "metadata": {},
   "outputs": [],
   "source": [
    "estimate_model_order(nwsnare_l, 13596, 0, 1, (3499, 3507), P_step=1)"
   ]
  },
  {
   "cell_type": "code",
   "execution_count": null,
   "metadata": {},
   "outputs": [],
   "source": [
    "plt.figure()\n",
    "plt.subplot(211)\n",
    "plt.plot(np.fft.fftshift(np.fft.fftfreq(X_ml_nwsnare_l.shape[0])), np.log((np.square(np.abs(np.fft.fftshift(np.fft.fft(nwsnare_l[3504:])))))))\n",
    "plt.subplot(212)\n",
    "plt.plot(np.fft.fftshift(np.fft.fftfreq(X_ml_nwsnare_l.shape[0])), np.log((np.square(np.abs(np.fft.fftshift(np.fft.fft(X_ml_nwsnare_l)))))))"
   ]
  },
  {
   "cell_type": "code",
   "execution_count": null,
   "metadata": {},
   "outputs": [],
   "source": [
    "estimate_model_order(nwsnare_r, 4, 0, 1, (10, 1010), P_step=100)"
   ]
  },
  {
   "cell_type": "code",
   "execution_count": null,
   "metadata": {},
   "outputs": [],
   "source": [
    "alpha_ml_nwsnare_r = get_alpha_ml(nwsnare_r, 910)\n",
    "X_ml_nwsnare_r = np.matmul(build_AR_matrix(nwsnare_r, 910), alpha_ml_nwsnare_r)"
   ]
  },
  {
   "cell_type": "code",
   "execution_count": null,
   "metadata": {},
   "outputs": [],
   "source": [
    "np.mean(np.square(X_ml_nwsnare_r - nwsnare_r[910:]))"
   ]
  },
  {
   "cell_type": "code",
   "execution_count": null,
   "metadata": {},
   "outputs": [],
   "source": [
    "estimate_model_order(nwsnare_r, 129443, 0, 1, (10, 1010), P_step=100)"
   ]
  },
  {
   "cell_type": "code",
   "execution_count": null,
   "metadata": {},
   "outputs": [],
   "source": [
    "plt.figure()\n",
    "plt.subplot(211)\n",
    "plt.plot(np.fft.fftshift(np.fft.fftfreq(X_ml_nwsnare_r.shape[0])), np.log((np.square(np.abs(np.fft.fftshift(np.fft.fft(nwsnare_r[910:])))))))\n",
    "plt.subplot(212)\n",
    "plt.plot(np.fft.fftshift(np.fft.fftfreq(X_ml_nwsnare_r.shape[0])), np.log((np.square(np.abs(np.fft.fftshift(np.fft.fft(X_ml_nwsnare_r)))))))"
   ]
  },
  {
   "cell_type": "code",
   "execution_count": null,
   "metadata": {},
   "outputs": [],
   "source": [
    "X_ml_nwsnare_l.shape, X_ml_nwsnare_r.shape"
   ]
  },
  {
   "cell_type": "code",
   "execution_count": null,
   "metadata": {},
   "outputs": [],
   "source": [
    "X_ml_nwsnare_l = np.pad(X_ml_nwsnare_l, (0, X_ml_nwsnare_r.shape[0]-X_ml_nwsnare_l.shape[0]))\n",
    "nwsnare_ar_proc = np.vstack((X_ml_nwsnare_l, X_ml_nwsnare_r)).T"
   ]
  },
  {
   "cell_type": "code",
   "execution_count": null,
   "metadata": {},
   "outputs": [],
   "source": [
    "wavfile.write(cwd+'resources/sample audio/nwsnare_ar_proc.wav', network_rate, nwsnare_ar_proc.astype(np.int16))"
   ]
  },
  {
   "cell_type": "markdown",
   "metadata": {},
   "source": [
    "## Simple model order estimation"
   ]
  },
  {
   "cell_type": "markdown",
   "metadata": {},
   "source": [
    "### Ma sound"
   ]
  },
  {
   "cell_type": "code",
   "execution_count": null,
   "metadata": {},
   "outputs": [],
   "source": [
    "plot_errors(nwst_l, (1, 250))\n",
    "plot_errors(nwst_r, (1, 250))"
   ]
  },
  {
   "cell_type": "code",
   "execution_count": null,
   "metadata": {},
   "outputs": [],
   "source": [
    "alpha_ml_nwst_r = get_alpha_ml(nwst_r, 8)\n",
    "X_ml_nwst_r = np.matmul(build_AR_matrix(nwst_r, 8), alpha_ml_nwst_r)\n",
    "alpha_ml_nwst_l = get_alpha_ml(nwst_l, 8)\n",
    "X_ml_nwst_l = np.matmul(build_AR_matrix(nwst_l, 8), alpha_ml_nwst_l)"
   ]
  },
  {
   "cell_type": "code",
   "execution_count": null,
   "metadata": {},
   "outputs": [],
   "source": [
    "plt.figure()\n",
    "plt.subplot(211)\n",
    "plt.title('Vowel spectrum. Model order: {}'.format(8))\n",
    "plt.plot(np.fft.fftshift(np.fft.fftfreq(X_ml_nwst_r.shape[0])), np.log((np.square(np.abs(np.fft.fftshift(np.fft.fft(nwst_r[8:])))))))\n",
    "plt.ylabel('True spectrum')\n",
    "plt.subplot(212)\n",
    "plt.plot(np.fft.fftshift(np.fft.fftfreq(X_ml_nwst_r.shape[0])), np.log((np.square(np.abs(np.fft.fftshift(np.fft.fft(X_ml_nwst_r)))))))\n",
    "plt.xlabel('Normalised frequency')\n",
    "plt.ylabel('ML estimate')"
   ]
  },
  {
   "cell_type": "code",
   "execution_count": null,
   "metadata": {},
   "outputs": [],
   "source": [
    "X_ml_nwst_r = np.pad(X_ml_nwst_r, (0, X_ml_nwst_l.shape[0]-X_ml_nwst_r.shape[0]))\n",
    "nwst_ar_proc = np.vstack((X_ml_nwst_l, X_ml_nwst_r)).T\n",
    "wavfile.write(cwd+'resources/sample audio/nwma_ar_proc.wav', network_rate, nwst_ar_proc.astype(np.int16))"
   ]
  },
  {
   "cell_type": "markdown",
   "metadata": {},
   "source": [
    "### Snare transient"
   ]
  },
  {
   "cell_type": "code",
   "execution_count": null,
   "metadata": {},
   "outputs": [],
   "source": [
    "plot_errors(nwsnare_l, (1, 250))\n",
    "plot_errors(nwsnare_r, (1, 250))"
   ]
  },
  {
   "cell_type": "code",
   "execution_count": null,
   "metadata": {},
   "outputs": [],
   "source": [
    "alpha_ml_nwsnare_r = get_alpha_ml(nwsnare_r, 12)\n",
    "X_ml_nwsnare_r = np.matmul(build_AR_matrix(nwsnare_r, 12), alpha_ml_nwsnare_r)\n",
    "alpha_ml_nwsnare_l = get_alpha_ml(nwsnare_l, 12)\n",
    "X_ml_nwsnare_l = np.matmul(build_AR_matrix(nwsnare_l, 12), alpha_ml_nwsnare_l)"
   ]
  },
  {
   "cell_type": "code",
   "execution_count": null,
   "metadata": {},
   "outputs": [],
   "source": [
    "plt.figure()\n",
    "plt.subplot(211)\n",
    "plt.title('Snare transient. Model order: {}'.format(12))\n",
    "plt.ylabel('True spectrum')\n",
    "plt.plot(np.fft.fftshift(np.fft.fftfreq(X_ml_nwsnare_r.shape[0])), np.log((np.square(np.abs(np.fft.fftshift(np.fft.fft(nwsnare_r[12:])))))))\n",
    "plt.subplot(212)\n",
    "plt.xlabel('Normalised frequency')\n",
    "plt.ylabel('ML estimate')\n",
    "plt.plot(np.fft.fftshift(np.fft.fftfreq(X_ml_nwsnare_r.shape[0])), np.log((np.square(np.abs(np.fft.fftshift(np.fft.fft(X_ml_nwsnare_r)))))))"
   ]
  },
  {
   "cell_type": "code",
   "execution_count": null,
   "metadata": {},
   "outputs": [],
   "source": [
    "X_ml_nwsnare_r = np.pad(X_ml_nwsnare_r, (0, X_ml_nwsnare_l.shape[0]-X_ml_nwsnare_r.shape[0]))\n",
    "nwsnare_ar_proc = np.vstack((X_ml_nwsnare_l, X_ml_nwsnare_r)).T\n",
    "wavfile.write(cwd+'resources/sample audio/nwsnare_ar_proc.wav', network_rate, nwsnare_ar_proc.astype(np.int16))"
   ]
  },
  {
   "cell_type": "markdown",
   "metadata": {},
   "source": [
    "### Th sound"
   ]
  },
  {
   "cell_type": "code",
   "execution_count": null,
   "metadata": {},
   "outputs": [],
   "source": [
    "_, nwth = wavfile.read(cwd+'resources/sample audio/th_sound.wav')\n",
    "nwth = nwth.astype(np.float64)\n",
    "nwth_l = nwth[:,0]\n",
    "nwth_r = nwth[:,1]"
   ]
  },
  {
   "cell_type": "code",
   "execution_count": null,
   "metadata": {},
   "outputs": [],
   "source": [
    "plot_errors(nwth_l, (1, 150))\n",
    "plot_errors(nwth_r, (1, 150))"
   ]
  },
  {
   "cell_type": "code",
   "execution_count": null,
   "metadata": {},
   "outputs": [],
   "source": [
    "alpha_ml_nwth_r = get_alpha_ml(nwth_r, 10)\n",
    "X_ml_nwth_r = np.matmul(build_AR_matrix(nwth_r, 10), alpha_ml_nwth_r)\n",
    "alpha_ml_nwth_l = get_alpha_ml(nwth_l, 10)\n",
    "X_ml_nwth_l = np.matmul(build_AR_matrix(nwth_l, 10), alpha_ml_nwth_l)"
   ]
  },
  {
   "cell_type": "code",
   "execution_count": null,
   "metadata": {},
   "outputs": [],
   "source": [
    "plt.figure()\n",
    "plt.subplot(211)\n",
    "plt.title('Consonant spectrum. Model order: {}'.format(10))\n",
    "plt.ylabel('True spectrum')\n",
    "plt.plot(np.fft.fftshift(np.fft.fftfreq(X_ml_nwth_r.shape[0])), np.log((np.square(np.abs(np.fft.fftshift(np.fft.fft(nwth_r[10:])))))))\n",
    "plt.subplot(212)\n",
    "plt.xlabel('Normalised frequency')\n",
    "plt.ylabel('ML estimate')\n",
    "plt.plot(np.fft.fftshift(np.fft.fftfreq(X_ml_nwth_r.shape[0])), np.log((np.square(np.abs(np.fft.fftshift(np.fft.fft(X_ml_nwth_r)))))))"
   ]
  },
  {
   "cell_type": "markdown",
   "metadata": {},
   "source": [
    "### Missing packet interpolation"
   ]
  },
  {
   "cell_type": "code",
   "execution_count": null,
   "metadata": {},
   "outputs": [],
   "source": [
    "_, armstrong_missing = wavfile.read(cwd+'resources/Audio for missing packet concealment/armst_37_missing.wav')\n",
    "armstrong_missing = armstrong_missing.astype(np.float64)"
   ]
  },
  {
   "cell_type": "code",
   "execution_count": null,
   "metadata": {},
   "outputs": [],
   "source": [
    "armstrong_rate, armstrong = wavfile.read(cwd+'resources/sample audio/armst_37_orig.wav')\n",
    "armstrong = armstrong.astype(np.float64)"
   ]
  },
  {
   "cell_type": "code",
   "execution_count": null,
   "metadata": {},
   "outputs": [],
   "source": [
    "plt.figure()\n",
    "plt.plot(np.arange(armstrong.shape[0])[:], armstrong[:])\n",
    "plt.plot(np.arange(armstrong.shape[0])[:], armstrong_missing[:])"
   ]
  },
  {
   "cell_type": "code",
   "execution_count": null,
   "metadata": {},
   "outputs": [],
   "source": [
    "def get_missing_indices_ranges(data):\n",
    "    # two step process to retrieve all bursts of degradation longer than 2 samples\n",
    "    # missing samples are zeroed out\n",
    "    missing_i = np.array([i for i in range(data.shape[0]) if data[i] == 0])\n",
    "    # to find ranges, we must find the first and last indices of each burst\n",
    "    beginning_i = np.array([missing_i[i] for i in range(missing_i.shape[0]) if not missing_i[i-1] == missing_i[i]-1])\n",
    "    ending_i = np.array([missing_i[i] for i in range(-1, missing_i.shape[0]-1) if not missing_i[i+1] == missing_i[i]+1])\n",
    "    ending_i = np.roll(ending_i, -1)\n",
    "    # zip to give ranges\n",
    "    missing_r = np.array(list(zip(beginning_i, ending_i)))\n",
    "    \n",
    "    # have to repeat process to fix this method detection single points in the audio\n",
    "    broken_i = np.empty(0)\n",
    "    for item in missing_r:\n",
    "        if (item[1]-item[0])<=1:\n",
    "            broken_i = np.append(broken_i, item[0])\n",
    "            broken_i = np.append(broken_i, item[1])\n",
    "\n",
    "    # rerun the initial process with the singular points in the audio removed\n",
    "    missing_i = np.array([item for item in missing_i if not (item in broken_i)])\n",
    "    beginning_i = np.array([missing_i[i] for i in range(missing_i.shape[0]) if not missing_i[i-1] == missing_i[i]-1])\n",
    "    ending_i = np.array([missing_i[i] for i in range(-1, missing_i.shape[0]-1) if not missing_i[i+1] == missing_i[i]+1])\n",
    "    ending_i = np.roll(ending_i, -1)\n",
    "    \n",
    "    missing_r = np.array(list(zip(beginning_i, ending_i)))\n",
    "    \n",
    "    return missing_i, missing_r"
   ]
  },
  {
   "cell_type": "code",
   "execution_count": null,
   "metadata": {},
   "outputs": [],
   "source": [
    "def destroy_packets(data, to_destroy, location):\n",
    "    temp_data = np.copy(data)\n",
    "    for num in to_destroy:\n",
    "            temp_data[int(1000*num+location[0]) : int(1000*num+location[1])] = 0\n",
    "    return temp_data"
   ]
  },
  {
   "cell_type": "code",
   "execution_count": null,
   "metadata": {},
   "outputs": [],
   "source": [
    "def ar_interpolation(data, alphas_f, alphas_b, missing_i, missing_r, noise_variance):\n",
    "    prediction_f = np.copy(data) # arrays passed by reference\n",
    "    # iterate over missing indices\n",
    "    for index in missing_i:\n",
    "        term = 0\n",
    "        # find forward prediction of the process at missing index, checking \n",
    "            # if the array bounds are violated\n",
    "        for i in range(alphas_f.shape[0]): # equivalent to zero initial conditions\n",
    "            if index-i-1 >=0:\n",
    "                term += alphas_f[i] * prediction_f[index-i-1]\n",
    "        # assign forward prediction term along with optional noise\n",
    "        prediction_f[index] = term + np.sqrt(noise_variance)*np.random.normal(size=1)[0]\n",
    "\n",
    "    # find reverse prediction by iterating over missing data backwards\n",
    "    prediction_b = np.copy(data)\n",
    "    for index in reversed(missing_i):\n",
    "        term = 0\n",
    "        for i in range(alphas_b.shape[0]):\n",
    "            if index+i+1 < data.shape[0]:\n",
    "                term += alphas_b[i] * prediction_b[index+i+1]\n",
    "        prediction_b[index] = term + np.sqrt(noise_variance)*np.random.normal(size=1)[0]\n",
    "    \n",
    "    # locate each gap in the data and calculate the weighted sum at each point\n",
    "    prediction_c = np.copy(data)\n",
    "    for gap in missing_r:\n",
    "        gap_length = gap[1]-gap[0]\n",
    "        for i in range(gap_length+1):\n",
    "            rho = i/(gap_length-1)\n",
    "            prediction_c[gap[0]+i] = (1-rho)*prediction_f[gap[0]+i] + rho*prediction_b[gap[0]+i]\n",
    "    \n",
    "    # return combined prediction\n",
    "    return prediction_c"
   ]
  },
  {
   "cell_type": "code",
   "execution_count": null,
   "metadata": {},
   "outputs": [],
   "source": [
    "missing_indices, missing_ranges = get_missing_indices_ranges(armstrong_missing)"
   ]
  },
  {
   "cell_type": "code",
   "execution_count": null,
   "metadata": {},
   "outputs": [],
   "source": [
    "plot_errors(armstrong, (1, 101))"
   ]
  },
  {
   "cell_type": "code",
   "execution_count": null,
   "metadata": {},
   "outputs": [],
   "source": [
    "alpha_armstrong_ml = get_alpha_ml(armstrong, 55)\n",
    "reverse_alpha_armstrong_ml = get_alpha_ml(armstrong[::-1], 55)\n",
    "#alpha_armstrong_ml = get_alpha_map(armstrong, 27, 177000, 1*np.ones(27), 1*np.eye(27))\n",
    "#reverse_alpha_armstrong_ml = get_alpha_map(armstrong[::-1], 27, 177000, 1*np.ones(27), 1*np.eye(27))"
   ]
  },
  {
   "cell_type": "code",
   "execution_count": null,
   "metadata": {},
   "outputs": [],
   "source": [
    "def chunk_audio(data, data_rate, chunk_length):\n",
    "    n = int(chunk_length*data_rate)\n",
    "    chunks = np.zeros((int(float(data.shape[0])/n)+1, n))\n",
    "\n",
    "    for i in range(0, data.shape[0], n):\n",
    "        try:\n",
    "            chunks[int(i/n), :] = data[i:i+n]\n",
    "        except ValueError:\n",
    "            temp_data = np.copy(data[i:i+n])\n",
    "            temp_data = np.pad(temp_data, (0, n-temp_data.shape[0]))\n",
    "            chunks[int(i/n), :] = temp_data\n",
    "    return chunks\n",
    "\n",
    "def chunk_missing_indices(missing_i, data, chunk_length):\n",
    "    return np.array([(np.array([i for i in missing_i[j:j+chunk_length]]), j) for j in range(0, data.shape[0], chunk_length)])"
   ]
  },
  {
   "cell_type": "code",
   "execution_count": null,
   "metadata": {},
   "outputs": [],
   "source": [
    "#chunked_armstrong = chunk_audio(armstrong, armstrong_rate, 0.1)\n",
    "#chunked_armstrong_missing = chunk_audio(armstrong_missing, armstrong_rate, 0.1)"
   ]
  },
  {
   "cell_type": "code",
   "execution_count": null,
   "metadata": {},
   "outputs": [],
   "source": [
    "#chunk_missing_indices(missing_indices, armstrong, int(0.1*armstrong_rate))"
   ]
  },
  {
   "cell_type": "code",
   "execution_count": null,
   "metadata": {},
   "outputs": [],
   "source": [
    "#plt.figure()\n",
    "#for i in range(armstrong_alphas.shape[1]):\n",
    "#    plt.hist(armstrong_alphas[:,i], bins = 30, label='Alpha: {}'.format(i+1))\n",
    "#    plt.legend()"
   ]
  },
  {
   "cell_type": "code",
   "execution_count": null,
   "metadata": {},
   "outputs": [],
   "source": [
    "complete_prediction = ar_interpolation(armstrong_missing, alpha_armstrong_ml, reverse_alpha_armstrong_ml, missing_indices, missing_ranges, 14362)"
   ]
  },
  {
   "cell_type": "code",
   "execution_count": null,
   "metadata": {},
   "outputs": [],
   "source": [
    "np.mean(np.square(complete_prediction - armstrong))"
   ]
  },
  {
   "cell_type": "code",
   "execution_count": null,
   "metadata": {},
   "outputs": [],
   "source": [
    "np.mean(np.square(armstrong_missing-armstrong))"
   ]
  },
  {
   "cell_type": "code",
   "execution_count": null,
   "metadata": {},
   "outputs": [],
   "source": [
    "wavfile.write(cwd+'resources/Audio for missing packet concealment/armstrong_processed.wav', armstrong_rate, complete_prediction.astype(np.int16))"
   ]
  },
  {
   "cell_type": "code",
   "execution_count": null,
   "metadata": {},
   "outputs": [],
   "source": [
    "plt.figure()\n",
    "plt.subplot(311)\n",
    "plt.title('Isolated samples of interpolated audio')\n",
    "plt.plot(np.arange(armstrong.shape[0])[125-10:158+10], armstrong[125-10:158+10])\n",
    "plt.plot(np.arange(armstrong.shape[0])[125-10:158+10], complete_prediction[125-10:158+10])\n",
    "plt.subplot(312)\n",
    "plt.plot(np.arange(armstrong.shape[0])[3680-10:3708+10], armstrong[3680-10:3708+10])\n",
    "plt.plot(np.arange(armstrong.shape[0])[3680-10:3708+10], complete_prediction[3680-10:3708+10])\n",
    "plt.subplot(313)\n",
    "plt.plot(np.arange(armstrong.shape[0])[10076-10:10104+10], armstrong[10076-10:10104+10])\n",
    "plt.plot(np.arange(armstrong.shape[0])[10076-10:10104+10], complete_prediction[10076-10:10104+10])\n",
    "plt.xlabel('Sample number')"
   ]
  },
  {
   "cell_type": "markdown",
   "metadata": {},
   "source": [
    "### Grosse"
   ]
  },
  {
   "cell_type": "code",
   "execution_count": null,
   "metadata": {},
   "outputs": [],
   "source": [
    "grosserate, grosse_missing = wavfile.read(cwd+'resources/Audio for missing packet concealment/grosse_40_percent_missing.wav')\n",
    "grosse_missing = grosse_missing.astype(np.float64)"
   ]
  },
  {
   "cell_type": "code",
   "execution_count": null,
   "metadata": {},
   "outputs": [],
   "source": [
    "_, grosse = wavfile.read(cwd+'resources/sample audio/grosse_original.wav')\n",
    "grosse = grosse.astype(np.float64)"
   ]
  },
  {
   "cell_type": "code",
   "execution_count": null,
   "metadata": {},
   "outputs": [],
   "source": [
    "grosse_missing_i, grosse_missing_r = get_missing_indices_ranges(grosse_missing)"
   ]
  },
  {
   "cell_type": "code",
   "execution_count": null,
   "metadata": {},
   "outputs": [],
   "source": [
    "plot_errors(grosse, (1, 151), P_step=1)"
   ]
  },
  {
   "cell_type": "code",
   "execution_count": null,
   "metadata": {},
   "outputs": [],
   "source": [
    "alpha_grosse_ml = get_alpha_ml(grosse, 77)\n",
    "reverse_alpha_grosse_ml = get_alpha_ml(grosse[::-1], 77)"
   ]
  },
  {
   "cell_type": "code",
   "execution_count": null,
   "metadata": {},
   "outputs": [],
   "source": [
    "complete_prediction_grosse = ar_interpolation(grosse_missing, alpha_grosse_ml, reverse_alpha_grosse_ml, grosse_missing_i, grosse_missing_r, 0)"
   ]
  },
  {
   "cell_type": "code",
   "execution_count": null,
   "metadata": {},
   "outputs": [],
   "source": [
    "np.mean(np.square(complete_prediction_grosse-grosse))"
   ]
  },
  {
   "cell_type": "code",
   "execution_count": null,
   "metadata": {},
   "outputs": [],
   "source": [
    "np.mean(np.square(grosse_missing-grosse))"
   ]
  },
  {
   "cell_type": "code",
   "execution_count": null,
   "metadata": {},
   "outputs": [],
   "source": [
    "wavfile.write(cwd+'resources/Audio for missing packet concealment/grosse_processed.wav', grosserate, complete_prediction_grosse.astype(np.int16))"
   ]
  },
  {
   "cell_type": "code",
   "execution_count": null,
   "metadata": {},
   "outputs": [],
   "source": [
    "chunked_grosse = chunk_audio(grosse, grosserate, 0.05)\n",
    "chunked_grosse.shape"
   ]
  },
  {
   "cell_type": "code",
   "execution_count": null,
   "metadata": {},
   "outputs": [],
   "source": [
    "grosse_alphas = np.zeros((chunked_grosse.shape[0], 20))\n",
    "for i in range(chunked_grosse.shape[0]):\n",
    "    grosse_alphas[i,:] = get_alpha_ml(chunked_grosse[i], 20)"
   ]
  },
  {
   "cell_type": "code",
   "execution_count": null,
   "metadata": {},
   "outputs": [],
   "source": [
    "plt.figure()\n",
    "for i in range(grosse_alphas.shape[1]):\n",
    "    plt.hist(grosse_alphas[:,i], bins = 15, label='Alpha: {}'.format(i+1))\n",
    "plt.title('P=20, 50ms Chunks')"
   ]
  },
  {
   "cell_type": "markdown",
   "metadata": {},
   "source": [
    "### Testing"
   ]
  },
  {
   "cell_type": "code",
   "execution_count": null,
   "metadata": {},
   "outputs": [],
   "source": [
    "armstrong_test = destroy_packets(armstrong, np.linspace(start=0, stop=17, num=18), (200, 210))"
   ]
  },
  {
   "cell_type": "code",
   "execution_count": null,
   "metadata": {},
   "outputs": [],
   "source": [
    "wavfile.write(cwd+'resources/Audio for missing packet concealment/armstrong_test_1.wav', armstrong_rate, armstrong_test.astype(np.int16))"
   ]
  },
  {
   "cell_type": "code",
   "execution_count": null,
   "metadata": {},
   "outputs": [],
   "source": [
    "missing_i_test, missing_r_test = get_missing_indices_ranges(armstrong_test)"
   ]
  },
  {
   "cell_type": "code",
   "execution_count": null,
   "metadata": {},
   "outputs": [],
   "source": [
    "complete_prediction_test = ar_interpolation(armstrong_test, alpha_armstrong_ml, reverse_alpha_armstrong_ml, missing_i_test, missing_r_test, 0)"
   ]
  },
  {
   "cell_type": "code",
   "execution_count": null,
   "metadata": {},
   "outputs": [],
   "source": [
    "wavfile.write(cwd+'resources/Audio for missing packet concealment/armstrong_test_processed_1.wav', armstrong_rate, complete_prediction_test.astype(np.int16))"
   ]
  },
  {
   "cell_type": "code",
   "execution_count": null,
   "metadata": {},
   "outputs": [],
   "source": [
    "np.mean(np.square(armstrong-armstrong_test))"
   ]
  },
  {
   "cell_type": "code",
   "execution_count": null,
   "metadata": {},
   "outputs": [],
   "source": [
    "np.mean(np.square(armstrong-complete_prediction_test))"
   ]
  },
  {
   "cell_type": "code",
   "execution_count": null,
   "metadata": {},
   "outputs": [],
   "source": [
    "np.linspace(start=0, stop=18, num=19)"
   ]
  },
  {
   "cell_type": "code",
   "execution_count": null,
   "metadata": {
    "scrolled": true
   },
   "outputs": [],
   "source": [
    "befores_noise_bad = np.zeros(490)\n",
    "afters_noise_bad = np.zeros(490)\n",
    "for i in range(10, 500):\n",
    "    print(i)\n",
    "    armstrong_test = destroy_packets(armstrong, np.linspace(start=0, stop=17, num=18), (200, 200+i))\n",
    "    missing_i_test, missing_r_test = get_missing_indices_ranges(armstrong_test)\n",
    "    complete_prediction_test = ar_interpolation(armstrong_test, alpha_armstrong_ml, reverse_alpha_armstrong_ml, missing_i_test, missing_r_test, 1000000)\n",
    "    befores_noise_bad[i-10] = np.mean(np.square(armstrong-armstrong_test))\n",
    "    afters_noise_bad[i-10] =np.mean(np.square(armstrong-complete_prediction_test))\n",
    "    \n",
    "befores_noise_bad, afters_noise_bad"
   ]
  },
  {
   "cell_type": "code",
   "execution_count": null,
   "metadata": {},
   "outputs": [],
   "source": [
    "reductions_noise_bad = (befores_noise_bad-afters_noise_bad)/(befores_noise_bad)"
   ]
  },
  {
   "cell_type": "code",
   "execution_count": null,
   "metadata": {},
   "outputs": [],
   "source": [
    "plt.figure()\n",
    "plt.plot(np.arange(490)/10, reductions, label='No noise')\n",
    "plt.plot(np.arange(490)/10, reductions_noise, label='Appropriate noise added')\n",
    "plt.plot(np.arange(490)/10, abs(reductions_noise_bad), label='Poorly scaled noise added')\n",
    "plt.xlabel('Proportion of data missing (%)')\n",
    "plt.ylabel('Reduction in MSE (%)')\n",
    "plt.legend()"
   ]
  },
  {
   "cell_type": "markdown",
   "metadata": {},
   "source": [
    "## Challenge 1"
   ]
  },
  {
   "cell_type": "code",
   "execution_count": null,
   "metadata": {},
   "outputs": [],
   "source": [
    "armstrong_challenge = destroy_packets(armstrong, np.array([2]), (0, 600))\n",
    "wavfile.write(cwd+'resources/Audio for missing packet concealment/armstrong_challenge.wav', armstrong_rate, armstrong_challenge.astype(np.int16))"
   ]
  },
  {
   "cell_type": "code",
   "execution_count": null,
   "metadata": {},
   "outputs": [],
   "source": [
    "# partition data\n",
    "x_mi_a = armstrong_challenge[:2000]\n",
    "x_mi_b = armstrong_challenge[2600:]\n",
    "x_i = armstrong_challenge[2000:2600]"
   ]
  },
  {
   "cell_type": "code",
   "execution_count": null,
   "metadata": {},
   "outputs": [],
   "source": [
    "# initialise A\n",
    "A = np.zeros((armstrong_challenge.shape[0]-alpha_armstrong_ml.shape[0], armstrong_challenge.shape[0]))\n",
    "# coefficients vector\n",
    "a_vec = np.pad(-alpha_armstrong_ml, (0, 1), mode='constant', constant_values=1)\n",
    "# build A\n",
    "for i in range(A.shape[0]):\n",
    "    A[i,:] = np.pad(a_vec, (i, A.shape[1]-i-a_vec.shape[0]))"
   ]
  },
  {
   "cell_type": "code",
   "execution_count": null,
   "metadata": {},
   "outputs": [],
   "source": [
    "# partition A\n",
    "Ai = np.copy(A[:, 2000:2600])\n",
    "A_mi_a = np.copy(A[:, :2000])\n",
    "A_mi_b = np.copy(A[:, 2600:])"
   ]
  },
  {
   "cell_type": "code",
   "execution_count": null,
   "metadata": {},
   "outputs": [],
   "source": [
    "# preliminary calculation\n",
    "matrix1 = np.matmul(np.linalg.inv(np.matmul(Ai.T, Ai)), Ai.T)"
   ]
  },
  {
   "cell_type": "code",
   "execution_count": null,
   "metadata": {},
   "outputs": [],
   "source": [
    "# build the known data vectors\n",
    "A_mi = np.hstack((A_mi_a, A_mi_b))\n",
    "x_mi = np.hstack((x_mi_a, x_mi_b))"
   ]
  },
  {
   "cell_type": "code",
   "execution_count": null,
   "metadata": {},
   "outputs": [],
   "source": [
    "# calculate least squares solution\n",
    "least_squares = -np.matmul(matrix1, np.matmul(A_mi, x_mi))"
   ]
  },
  {
   "cell_type": "code",
   "execution_count": null,
   "metadata": {},
   "outputs": [],
   "source": [
    "plt.figure()\n",
    "plt.plot(np.arange(armstrong.shape[0])[1950:2650], armstrong[1950:2650])\n",
    "plt.plot(np.arange(armstrong.shape[0])[2000:2600], least_squares)"
   ]
  },
  {
   "cell_type": "code",
   "execution_count": null,
   "metadata": {},
   "outputs": [],
   "source": [
    "armstrong_challenge_rep = np.copy(armstrong_challenge)\n",
    "armstrong_challenge_rep[2000:2600] = least_squares"
   ]
  },
  {
   "cell_type": "code",
   "execution_count": null,
   "metadata": {},
   "outputs": [],
   "source": [
    "wavfile.write(cwd+'resources/Audio for missing packet concealment/armstrong_challenge_repaired.wav', armstrong_rate, armstrong_challenge_rep.astype(np.int16))"
   ]
  },
  {
   "cell_type": "markdown",
   "metadata": {},
   "source": [
    "### Applied to supplied audio sample"
   ]
  },
  {
   "cell_type": "code",
   "execution_count": null,
   "metadata": {},
   "outputs": [],
   "source": [
    "# initialise matrices\n",
    "Ai_final = np.zeros((armstrong_challenge.shape[0]-alpha_armstrong_ml.shape[0], missing_indices.shape[0]))\n",
    "Ami_final = np.zeros((armstrong_challenge.shape[0]-alpha_armstrong_ml.shape[0], armstrong.shape[0] - missing_indices.shape[0]))\n",
    "x_mi_final = np.zeros(armstrong.shape[0] - missing_indices.shape[0])"
   ]
  },
  {
   "cell_type": "code",
   "execution_count": null,
   "metadata": {},
   "outputs": [],
   "source": [
    "# build Ai\n",
    "for i in range(missing_indices.shape[0]):\n",
    "    Ai_final[:, i] = A[:, missing_indices[i]]"
   ]
  },
  {
   "cell_type": "code",
   "execution_count": null,
   "metadata": {},
   "outputs": [],
   "source": [
    "# build Ami\n",
    "counter = 0\n",
    "for i in range(armstrong.shape[0]):\n",
    "    if i not in missing_indices:\n",
    "        Ami_final[:, counter] = A[:, i]\n",
    "        x_mi_final[counter] = armstrong[i]\n",
    "        counter += 1"
   ]
  },
  {
   "cell_type": "code",
   "execution_count": null,
   "metadata": {},
   "outputs": [],
   "source": [
    "# preliminary calculation\n",
    "matrix2 = np.matmul(np.linalg.inv(np.matmul(Ai_final.T, Ai_final)), Ai_final.T)"
   ]
  },
  {
   "cell_type": "code",
   "execution_count": null,
   "metadata": {},
   "outputs": [],
   "source": [
    "# least squares solution\n",
    "least_squares2 = -np.matmul(matrix2, np.matmul(Ami_final, x_mi_final))"
   ]
  },
  {
   "cell_type": "code",
   "execution_count": null,
   "metadata": {},
   "outputs": [],
   "source": [
    "armstrong_least_squares = np.copy(armstrong_missing)"
   ]
  },
  {
   "cell_type": "code",
   "execution_count": null,
   "metadata": {},
   "outputs": [],
   "source": [
    "# apply least squares solution in the correct places\n",
    "counter2 = 0\n",
    "for i in range(armstrong.shape[0]):\n",
    "    if i in missing_indices:\n",
    "        armstrong_least_squares[i] = least_squares2[counter2]\n",
    "        counter2+=1"
   ]
  },
  {
   "cell_type": "code",
   "execution_count": null,
   "metadata": {},
   "outputs": [],
   "source": [
    "plt.figure()\n",
    "plt.plot(np.arange(armstrong.shape[0]), armstrong)\n",
    "plt.plot(np.arange(armstrong.shape[0]), armstrong_least_squares)"
   ]
  },
  {
   "cell_type": "code",
   "execution_count": null,
   "metadata": {},
   "outputs": [],
   "source": [
    "wavfile.write(cwd+'resources/Audio for missing packet concealment/armstrong_least_squares.wav', armstrong_rate, armstrong_least_squares.astype(np.int16))"
   ]
  },
  {
   "cell_type": "code",
   "execution_count": null,
   "metadata": {},
   "outputs": [],
   "source": [
    "np.mean(np.square(armstrong - armstrong_least_squares))"
   ]
  },
  {
   "cell_type": "code",
   "execution_count": null,
   "metadata": {},
   "outputs": [],
   "source": [
    "np.mean(np.square(armstrong - complete_prediction))"
   ]
  },
  {
   "cell_type": "code",
   "execution_count": null,
   "metadata": {},
   "outputs": [],
   "source": [
    "def least_squares_interpolator(data, alphas):\n",
    "    missing_i, _ = get_missing_indices_ranges(data)\n",
    "    # initialise matrices\n",
    "    A_f = np.zeros((data.shape[0]-alphas.shape[0], data.shape[0]))\n",
    "    Ai_f = np.zeros((data.shape[0]-alphas.shape[0], missing_i.shape[0]))\n",
    "    Ami_f = np.zeros((data.shape[0]-alphas.shape[0], data.shape[0] - missing_i.shape[0]))\n",
    "    x_mi_f = np.zeros(data.shape[0] - missing_i.shape[0])\n",
    "\n",
    "    # coefficients vector\n",
    "    a_vec_f = np.pad(-alphas, (0, 1), mode='constant', constant_values=1)\n",
    "    # build A\n",
    "    for i in range(A_f.shape[0]):\n",
    "        A_f[i,:] = np.pad(a_vec_f, (i, A_f.shape[1]-i-a_vec_f.shape[0]))\n",
    "    # build Ai\n",
    "    for i in range(missing_i.shape[0]):\n",
    "        Ai_f[:, i] = A_f[:, missing_i[i]]  \n",
    "    # build Ami\n",
    "    c = 0\n",
    "    for i in range(data.shape[0]):\n",
    "        if i not in missing_i:\n",
    "            Ami_f[:, c] = A_f[:, i]\n",
    "            x_mi_f[c] = data[i]\n",
    "            c += 1\n",
    "    # preliminary calculation\n",
    "    mat = np.matmul(np.linalg.inv(np.matmul(Ai_f.T, Ai_f)), Ai_f.T)\n",
    "    ls = -np.matmul(mat, np.matmul(Ami_f, x_mi_f))\n",
    "    # apply least squares solution in the correct places\n",
    "    c2 = 0\n",
    "    ls_data = np.copy(data)\n",
    "    for i in range(data.shape[0]):\n",
    "        if i in missing_i:\n",
    "            ls_data[i] = ls[c2]\n",
    "            c2+=1\n",
    "    return ls_data"
   ]
  },
  {
   "cell_type": "code",
   "execution_count": null,
   "metadata": {},
   "outputs": [],
   "source": [
    "function_test = np.copy(armstrong_challenge)"
   ]
  },
  {
   "cell_type": "code",
   "execution_count": null,
   "metadata": {},
   "outputs": [],
   "source": [
    "plt.figure()\n",
    "plt.subplot(211)\n",
    "plt.plot(np.arange(armstrong.shape[0])[:5000], armstrong[:5000])\n",
    "plt.plot(np.arange(armstrong.shape[0])[:5000], function_test_rep[:5000])\n",
    "plt.subplot(212)\n",
    "plt.plot(np.arange(armstrong.shape[0])[2000:2600], armstrong[2000:2600])\n",
    "plt.plot(np.arange(armstrong.shape[0])[2000:2600], function_test_rep[2000:2600])\n",
    "plt.xlabel('Sample')"
   ]
  },
  {
   "cell_type": "code",
   "execution_count": null,
   "metadata": {},
   "outputs": [],
   "source": [
    "function_test_rep = least_squares_interpolator(function_test, alpha_armstrong_ml)"
   ]
  },
  {
   "cell_type": "code",
   "execution_count": null,
   "metadata": {},
   "outputs": [],
   "source": [
    "wavfile.write(cwd+'resources/Audio for missing packet concealment/function_test.wav', armstrong_rate, function_test_rep.astype(np.int16))"
   ]
  },
  {
   "cell_type": "code",
   "execution_count": null,
   "metadata": {},
   "outputs": [],
   "source": [
    "np.mean(np.square(armstrong - function_test_rep)), np.mean(np.square(armstrong - function_test))"
   ]
  },
  {
   "cell_type": "code",
   "execution_count": null,
   "metadata": {},
   "outputs": [],
   "source": [
    "wavfile.write(cwd+'resources/Audio for missing packet concealment/grosse_least_squares.wav', grosserate, least_squares_interpolator(grosse_missing, alpha_grosse_ml).astype(np.int16))"
   ]
  },
  {
   "cell_type": "code",
   "execution_count": null,
   "metadata": {},
   "outputs": [],
   "source": []
  }
 ],
 "metadata": {
  "kernelspec": {
   "display_name": "Python 3",
   "language": "python",
   "name": "python3"
  },
  "language_info": {
   "codemirror_mode": {
    "name": "ipython",
    "version": 3
   },
   "file_extension": ".py",
   "mimetype": "text/x-python",
   "name": "python",
   "nbconvert_exporter": "python",
   "pygments_lexer": "ipython3",
   "version": "3.7.6"
  }
 },
 "nbformat": 4,
 "nbformat_minor": 4
}
