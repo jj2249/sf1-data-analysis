{
 "cells": [
  {
   "cell_type": "code",
   "execution_count": null,
   "metadata": {},
   "outputs": [],
   "source": [
    "import numpy as np\n",
    "from scipy.io import wavfile\n",
    "import matplotlib.pyplot as plt\n",
    "from scipy.stats import expon\n",
    "%matplotlib notebook"
   ]
  },
  {
   "cell_type": "code",
   "execution_count": null,
   "metadata": {},
   "outputs": [],
   "source": [
    "organrate, organ = wavfile.read('./resources/sample audio/organ.wav')\n",
    "organ_l = organ[:, 0].astype(np.float64)\n",
    "organ_r = organ[:, 1].astype(np.float64)"
   ]
  },
  {
   "cell_type": "code",
   "execution_count": null,
   "metadata": {},
   "outputs": [],
   "source": [
    "N = organ_l.shape[0]\n",
    "N"
   ]
  },
  {
   "cell_type": "code",
   "execution_count": null,
   "metadata": {},
   "outputs": [],
   "source": [
    "def build_sinusoid_G(omegas, n):\n",
    "    # number of frequencies\n",
    "    J = omegas.shape[0]\n",
    "    # 2 components for each freq, 1 row for each data point\n",
    "    mat = np.zeros((n, 2*J))\n",
    "    counter=0\n",
    "    # build matrix of sinusiods at the normalised frequencies\n",
    "    for i in range(J):\n",
    "        freq = omegas[i]\n",
    "        cosines = np.cos(np.arange(1, n+1)*freq)\n",
    "        sines = np.sin(np.arange(1, n+1)*freq)\n",
    "        mat[:, counter] = cosines\n",
    "        counter += 1\n",
    "        mat[:, counter] = sines\n",
    "        counter += 1\n",
    "    return mat"
   ]
  },
  {
   "cell_type": "code",
   "execution_count": null,
   "metadata": {},
   "outputs": [],
   "source": [
    "omega = np.linspace(0.0001, 0.5, 1000)"
   ]
  },
  {
   "cell_type": "code",
   "execution_count": null,
   "metadata": {},
   "outputs": [],
   "source": [
    "G = build_sinusoid_G(omega, N)"
   ]
  },
  {
   "cell_type": "code",
   "execution_count": null,
   "metadata": {},
   "outputs": [],
   "source": [
    "def get_theta_ML(x, Gmat):\n",
    "    # standard least squares expression\n",
    "    return np.matmul(np.linalg.inv(np.matmul(Gmat.T, Gmat)), np.matmul(Gmat.T, x))"
   ]
  },
  {
   "cell_type": "code",
   "execution_count": null,
   "metadata": {},
   "outputs": [],
   "source": [
    "theta_l = get_theta_ML(organ_l, G)\n",
    "theta_r = get_theta_ML(organ_r, G)"
   ]
  },
  {
   "cell_type": "code",
   "execution_count": null,
   "metadata": {},
   "outputs": [],
   "source": [
    "def get_theta_amp(thetas, omegas):\n",
    "    thetas_amp = np.zeros(omegas.shape[0])\n",
    "    # extract amplitude at each frequency as the root squared sum of a and b\n",
    "    for i in range(omegas.shape[0]):\n",
    "        thetas_amp[i] = np.square(thetas[2*i]) + np.square(thetas[2*i+1])\n",
    "    return thetas_amp"
   ]
  },
  {
   "cell_type": "code",
   "execution_count": null,
   "metadata": {},
   "outputs": [],
   "source": [
    "plt.figure()\n",
    "plt.plot(omega, np.sqrt(get_theta_amp(theta_l, omega)), label='Left')\n",
    "plt.plot(omega, np.sqrt(get_theta_amp(theta_r, omega)), label='Right')\n",
    "plt.xlabel('Normalised frequency')\n",
    "plt.ylabel('sqrt(a^2 + b^2)')\n",
    "plt.legend()"
   ]
  },
  {
   "cell_type": "code",
   "execution_count": null,
   "metadata": {},
   "outputs": [],
   "source": [
    "def get_posterior(x, Gmat, prior_mean, C_inv, noise_variance):\n",
    "    # same prior expression\n",
    "    phi = np.matmul(Gmat.T, Gmat) + noise_variance * C_inv\n",
    "    Theta = np.matmul(Gmat.T, x) + noise_variance * np.matmul(C_inv, prior_mean)\n",
    "    mean = np.matmul(np.linalg.inv(phi), Theta)\n",
    "    covar = noise_variance * np.linalg.inv(phi)\n",
    "    \n",
    "    return mean, covar"
   ]
  },
  {
   "cell_type": "code",
   "execution_count": null,
   "metadata": {},
   "outputs": [],
   "source": [
    "theta_map_l, _ = get_posterior(organ_l, G, np.zeros(2*omega.shape[0]), np.eye(2*omega.shape[0]), 1)\n",
    "theta_map_r, _ = get_posterior(organ_r, G, np.zeros(2*omega.shape[0]), np.eye(2*omega.shape[0]), 1)"
   ]
  },
  {
   "cell_type": "code",
   "execution_count": null,
   "metadata": {},
   "outputs": [],
   "source": [
    "plt.figure()\n",
    "plt.plot(omega, get_theta_amp(theta_map_l, omega))\n",
    "plt.plot(omega, get_theta_amp(theta_map_r, omega))"
   ]
  },
  {
   "cell_type": "code",
   "execution_count": null,
   "metadata": {},
   "outputs": [],
   "source": [
    "def get_log_model_evidence(data, noise_variance, prior_mean, inv_prior_covar, Gen):\n",
    "    Num_samps = data.shape[0]\n",
    "    phi = np.matmul(Gen.T, Gen) + noise_variance * inv_prior_covar\n",
    "    theta = np.matmul(Gen.T, data) + noise_variance * np.matmul(inv_prior_covar, prior_mean)\n",
    "    th_map = np.matmul(np.linalg.inv(phi), theta)\n",
    "    sign_C, log_det_C_inv = np.linalg.slogdet(inv_prior_covar)\n",
    "    sign_P, log_det_phi = np.linalg.slogdet(phi)\n",
    "    \n",
    "    t1 = -Num_samps*np.log(2*np.pi)/2\n",
    "    t2 = sign_C*log_det_C_inv/2\n",
    "    t3 = -sign_P*log_det_phi/2\n",
    "    t4 = -(Num_samps-2)*np.log(noise_variance)/2\n",
    "    \n",
    "    t5 = np.sum(np.square(data))\n",
    "    t6 = noise_variance * np.linalg.multi_dot((prior_mean, inv_prior_covar, prior_mean))\n",
    "    t7 = np.matmul(theta.T, th_map)\n",
    "    \n",
    "    \n",
    "    return t1+t2+t3+t4 - (t5+t6-t7)/(2*noise_variance)"
   ]
  },
  {
   "cell_type": "code",
   "execution_count": null,
   "metadata": {},
   "outputs": [],
   "source": [
    "model_ev = get_log_model_evidence(organ_l, 1, np.zeros(2*omega.shape[0]), np.eye(2*omega.shape[0]), G)\n",
    "model_ev"
   ]
  },
  {
   "cell_type": "code",
   "execution_count": null,
   "metadata": {},
   "outputs": [],
   "source": [
    "freq_prior = expon.pdf(omega, loc=0, scale=0.2)\n",
    "plt.figure()\n",
    "plt.plot(omega, freq_prior*np.exp(model_ev))"
   ]
  },
  {
   "cell_type": "code",
   "execution_count": null,
   "metadata": {},
   "outputs": [],
   "source": []
  },
  {
   "cell_type": "code",
   "execution_count": null,
   "metadata": {},
   "outputs": [],
   "source": []
  }
 ],
 "metadata": {
  "kernelspec": {
   "display_name": "Python 3",
   "language": "python",
   "name": "python3"
  },
  "language_info": {
   "codemirror_mode": {
    "name": "ipython",
    "version": 3
   },
   "file_extension": ".py",
   "mimetype": "text/x-python",
   "name": "python",
   "nbconvert_exporter": "python",
   "pygments_lexer": "ipython3",
   "version": "3.7.6"
  }
 },
 "nbformat": 4,
 "nbformat_minor": 4
}
