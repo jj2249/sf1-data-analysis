{
 "cells": [
  {
   "cell_type": "code",
   "execution_count": null,
   "metadata": {},
   "outputs": [],
   "source": [
    "import numpy as np\n",
    "import matplotlib.pyplot as plt\n",
    "%matplotlib notebook\n",
    "from scipy.stats import norm"
   ]
  },
  {
   "cell_type": "markdown",
   "metadata": {},
   "source": [
    "## Task 1\n",
    "\n",
    "$y_n = \\theta + e_n$"
   ]
  },
  {
   "cell_type": "code",
   "execution_count": null,
   "metadata": {},
   "outputs": [],
   "source": [
    "theta = np.random.normal(loc=0, scale=1, size=1)[0]\n",
    "theta"
   ]
  },
  {
   "cell_type": "code",
   "execution_count": null,
   "metadata": {},
   "outputs": [],
   "source": [
    "ssq_e = 1\n",
    "m_e = 0\n",
    "N = 100\n",
    "e = np.random.normal(loc=m_e, scale=np.sqrt(ssq_e), size=N)\n",
    "y1 = theta*np.ones(N) + e"
   ]
  },
  {
   "cell_type": "code",
   "execution_count": null,
   "metadata": {},
   "outputs": [],
   "source": [
    "plt.figure()\n",
    "plt.plot(np.arange(N), y1)\n",
    "plt.xlabel('n')\n",
    "plt.ylabel('y')\n",
    "plt.title('theta: {}'.format(round(theta, 4)))"
   ]
  },
  {
   "cell_type": "code",
   "execution_count": null,
   "metadata": {},
   "outputs": [],
   "source": [
    "theta_ML = np.sum(y1)/N\n",
    "theta_ML"
   ]
  },
  {
   "cell_type": "markdown",
   "metadata": {},
   "source": [
    "Prior parameters"
   ]
  },
  {
   "cell_type": "code",
   "execution_count": null,
   "metadata": {},
   "outputs": [],
   "source": [
    "m_th = 0\n",
    "ssq_th = 1"
   ]
  },
  {
   "cell_type": "code",
   "execution_count": null,
   "metadata": {},
   "outputs": [],
   "source": [
    "theta_MAP = (m_th*ssq_e/ssq_th + np.sum(y1))/(N + ssq_e/ssq_th)\n",
    "ssq_post = ssq_e / (N + ssq_e/ssq_th)\n",
    "theta_MAP"
   ]
  },
  {
   "cell_type": "code",
   "execution_count": null,
   "metadata": {},
   "outputs": [],
   "source": [
    "axis = np.linspace(-5, 5, num=10000)\n",
    "plt.figure()\n",
    "plt.plot(axis, norm.pdf(axis, loc=theta_ML, scale=np.sqrt(ssq_e/N)), label='Likelihood')\n",
    "plt.plot(axis, norm.pdf(axis, loc=m_th, scale=np.sqrt(ssq_th)), label='Prior')\n",
    "plt.plot(axis, norm.pdf(axis, loc=theta_MAP, scale=np.sqrt(ssq_post)), label='Posterior')\n",
    "plt.xlabel('theta')\n",
    "plt.title('N: {}, theta: {}, prior mean: {}, prior variance: {}, noise variance: {}'.format(N, round(theta, 4), round(m_th, 4), round(ssq_th, 4), round(ssq_e, 4)))\n",
    "plt.legend()"
   ]
  },
  {
   "cell_type": "markdown",
   "metadata": {},
   "source": [
    "## Task 2\n",
    "\n",
    "$y_n = \\theta_1 + \\theta_2n + e_n$"
   ]
  },
  {
   "cell_type": "code",
   "execution_count": null,
   "metadata": {},
   "outputs": [],
   "source": [
    "theta1 = np.random.normal(loc=0, scale=1, size=1)[0]\n",
    "theta2 = np.random.normal(loc=0, scale=1, size=1)[0]\n",
    "y2 = theta1 + theta2*np.arange(N) + e"
   ]
  },
  {
   "cell_type": "code",
   "execution_count": null,
   "metadata": {},
   "outputs": [],
   "source": [
    "plt.figure()\n",
    "plt.plot(np.arange(N), y2)\n",
    "plt.xlabel('n')\n",
    "plt.ylabel('y')\n",
    "plt.title('theta1: {}, theta2: {}'.format(round(theta1, 4), round(theta2, 4)))"
   ]
  },
  {
   "cell_type": "code",
   "execution_count": null,
   "metadata": {},
   "outputs": [],
   "source": [
    "def polynomial_G(N_samps, N_params):\n",
    "    # returns generator matrix G for a polynomial model with P coefficients and N observations\n",
    "    G = np.zeros((N_samps, N_params))\n",
    "    for i in range(N_params):\n",
    "        G[:,i] = np.power(np.arange(N_samps), i)\n",
    "    return G"
   ]
  },
  {
   "cell_type": "code",
   "execution_count": null,
   "metadata": {},
   "outputs": [],
   "source": [
    "def get_theta_ML(x, G):\n",
    "    return np.matmul(np.linalg.inv(np.matmul(G.T, G)), np.matmul(G.T, x))"
   ]
  },
  {
   "cell_type": "code",
   "execution_count": null,
   "metadata": {},
   "outputs": [],
   "source": [
    "G2 = polynomial_G(N, 2)"
   ]
  },
  {
   "cell_type": "code",
   "execution_count": null,
   "metadata": {},
   "outputs": [],
   "source": [
    "get_theta_ML(y2, G2)"
   ]
  },
  {
   "cell_type": "code",
   "execution_count": null,
   "metadata": {},
   "outputs": [],
   "source": [
    "def get_posterior(x, G, prior_mean, C_inv, noise_variance):\n",
    "    # terms as in handout\n",
    "    phi = np.matmul(G.T, G) + noise_variance * C_inv\n",
    "    Theta = np.matmul(G.T, x) + noise_variance * np.matmul(C_inv, prior_mean)\n",
    "    mean = np.matmul(np.linalg.inv(phi), Theta)\n",
    "    covar = noise_variance * np.linalg.inv(phi)\n",
    "    \n",
    "    return mean, covar"
   ]
  },
  {
   "cell_type": "markdown",
   "metadata": {},
   "source": [
    "Prior parameters"
   ]
  },
  {
   "cell_type": "code",
   "execution_count": null,
   "metadata": {},
   "outputs": [],
   "source": [
    "C_th2 = np.eye(2)\n",
    "m_th2 = np.zeros(2)"
   ]
  },
  {
   "cell_type": "code",
   "execution_count": null,
   "metadata": {},
   "outputs": [],
   "source": [
    "m_post, C_post = get_posterior(y2, G2, m_th2, np.linalg.inv(C_th2), ssq_e)\n",
    "m_post, C_post"
   ]
  },
  {
   "cell_type": "code",
   "execution_count": null,
   "metadata": {},
   "outputs": [],
   "source": [
    "n_tilde = G2\n",
    "m_star = np.matmul(n_tilde, m_post) + m_e\n",
    "v_star = np.zeros(n_tilde.shape[0])\n",
    "for i in range(v_star.shape[0]):\n",
    "    v_star[i] = np.linalg.multi_dot((n_tilde[i], C_post, n_tilde[i])) + ssq_e"
   ]
  },
  {
   "cell_type": "code",
   "execution_count": null,
   "metadata": {},
   "outputs": [],
   "source": [
    "fig, ax, = plt.subplots()\n",
    "ax.plot(np.arange(N), m_star)\n",
    "ax.plot(np.arange(N), y2)\n",
    "plt.xlabel('n')\n",
    "plt.ylabel('y')\n",
    "plt.title('Example 3')\n",
    "ax.fill_between(np.arange(N), (m_star-3*np.sqrt(v_star)), (m_star+3*np.sqrt(v_star)), color='b', alpha=.1)"
   ]
  },
  {
   "cell_type": "markdown",
   "metadata": {},
   "source": [
    "## Task 3\n",
    "\n",
    "Posterior model probabilites:"
   ]
  },
  {
   "cell_type": "code",
   "execution_count": null,
   "metadata": {},
   "outputs": [],
   "source": [
    "#yt = np.random.normal(loc=0, scale=np.sqrt(ssq_e), size=N)\n",
    "yt = np.random.normal(loc=0, scale=1, size=1)[0]*np.ones(N) + np.random.normal(loc=0,scale=np.sqrt(ssq_e), size=N)\n",
    "#yt = np.random.normal(loc=0, scale=1, size=1)[0]*np.arange(N) + np.random.normal(loc=0, scale=1, size=1)[0]*np.ones(N) + np.random.normal(loc=0,scale=np.sqrt(ssq_e), size=N)"
   ]
  },
  {
   "cell_type": "code",
   "execution_count": null,
   "metadata": {},
   "outputs": [],
   "source": [
    "plt.figure()\n",
    "plt.plot(np.arange(N), yt)\n",
    "plt.title('Model 3')\n",
    "plt.xlabel('n')\n",
    "plt.ylabel('y')"
   ]
  },
  {
   "cell_type": "markdown",
   "metadata": {},
   "source": [
    " $\\mathcal{M}_1$"
   ]
  },
  {
   "cell_type": "code",
   "execution_count": null,
   "metadata": {},
   "outputs": [],
   "source": [
    "def get_lpM1(data, noise_variance):\n",
    "    Num_samps = data.shape[0]\n",
    "    return -Num_samps*np.log(2*np.pi*noise_variance)/2 - np.sum(np.square(data))/(2*noise_variance)"
   ]
  },
  {
   "cell_type": "code",
   "execution_count": null,
   "metadata": {},
   "outputs": [],
   "source": [
    "lpM1 = get_lpM1(yt, ssq_e)\n",
    "lpM1"
   ]
  },
  {
   "cell_type": "markdown",
   "metadata": {},
   "source": [
    " $\\mathcal{M}_2$"
   ]
  },
  {
   "cell_type": "code",
   "execution_count": null,
   "metadata": {},
   "outputs": [],
   "source": [
    "def get_lpM2(data, noise_variance, prior_mean, prior_variance):\n",
    "    Num_samps = data.shape[0]\n",
    "    t1 = -Num_samps*np.log(2*np.pi)/2\n",
    "    t2 = -np.log(Num_samps*prior_variance + noise_variance)/2\n",
    "    t3 = -(Num_samps-1)*np.log(noise_variance)/2\n",
    "    t4 = np.sum(np.square(data))\n",
    "    t5 = noise_variance*np.square(prior_mean) / prior_variance\n",
    "    t6 = np.square(np.sum(data) + noise_variance*prior_mean / prior_variance) / (Num_samps + noise_variance/prior_variance)\n",
    "    \n",
    "    return t1+t2+t3 - (t4+t5-t6)/(2*noise_variance)"
   ]
  },
  {
   "cell_type": "code",
   "execution_count": null,
   "metadata": {},
   "outputs": [],
   "source": [
    "lpM2 = get_lpM2(yt, ssq_e, 0, 100000000000)\n",
    "lpM2"
   ]
  },
  {
   "cell_type": "markdown",
   "metadata": {},
   "source": [
    " $\\mathcal{M}_3$"
   ]
  },
  {
   "cell_type": "code",
   "execution_count": null,
   "metadata": {},
   "outputs": [],
   "source": [
    "def get_lpM3(data, noise_variance, prior_mean, C_inv, Gen):\n",
    "    Num_samps = data.shape[0]\n",
    "    phi = np.matmul(Gen.T, Gen) + noise_variance * C_inv\n",
    "    Theta = np.matmul(Gen.T, data) + noise_variance * np.matmul(C_inv, prior_mean)\n",
    "    th_map = np.matmul(np.linalg.inv(phi), Theta)\n",
    "    sign_C, log_det_C_inv = np.linalg.slogdet(C_inv)\n",
    "    sign_P, log_det_phi = np.linalg.slogdet(phi)\n",
    "    \n",
    "    t1 = -Num_samps*np.log(2*np.pi)/2\n",
    "    t2 = sign_C*log_det_C_inv/2\n",
    "    t3 = -sign_P*log_det_phi/2\n",
    "    t4 = -(Num_samps-2)*np.log(noise_variance)/2\n",
    "    \n",
    "    t5 = np.sum(np.square(data))\n",
    "    t6 = noise_variance * np.linalg.multi_dot((prior_mean, C_inv, prior_mean))\n",
    "    t7 = np.matmul(Theta.T, th_map)\n",
    "    \n",
    "    \n",
    "    return t1+t2+t3+t4 - (t5+t6-t7)/(2*noise_variance)"
   ]
  },
  {
   "cell_type": "code",
   "execution_count": null,
   "metadata": {},
   "outputs": [],
   "source": [
    "lpM3 = get_lpM3(yt, ssq_e, np.zeros(2), 100000000000000*np.eye(2), G2)\n",
    "lpM3"
   ]
  },
  {
   "cell_type": "markdown",
   "metadata": {},
   "source": [
    "## Task 4"
   ]
  },
  {
   "cell_type": "code",
   "execution_count": null,
   "metadata": {},
   "outputs": [],
   "source": [
    "N_n = 105 # easier if we generate longer sample to deal with case where offset > 85, then truncate\n",
    "N_f = 100\n",
    "sigma_n = 2\n",
    "sigma_gamma = 1\n",
    "signal = np.array([-3, 5, -2, 4, 1, 3, 5, -2, 2, 4, 6, 5, -2, -2, 1]).astype(np.float64)\n",
    "noise = sigma_n*np.random.normal(size=N_n)\n",
    "gamma = sigma_gamma*np.random.normal(size=1)[0].astype(np.float64)\n",
    "offset = np.round(90*np.random.rand()).astype(np.int16)\n",
    "print(gamma)\n",
    "print(offset)\n",
    "y3 = noise\n",
    "signal_offset = np.zeros(N_n)\n",
    "signal_offset[offset:offset+15] = gamma * signal\n",
    "\n",
    "y4 = (y3 + signal_offset)[:N_f]"
   ]
  },
  {
   "cell_type": "code",
   "execution_count": null,
   "metadata": {},
   "outputs": [],
   "source": [
    "ssq_gam_prior = np.square(sigma_gamma)\n",
    "mu_gam_prior = -gamma"
   ]
  },
  {
   "cell_type": "code",
   "execution_count": null,
   "metadata": {},
   "outputs": [],
   "source": [
    "plt.figure()\n",
    "plt.plot(np.arange(N_f), y4)\n",
    "plt.xlabel('n')\n",
    "plt.ylabel('y')\n",
    "plt.title('Hidden signal. Offset: {}, Gamma: {}, Noise Variance: {}'.format(offset, round(gamma, 3), np.square(sigma_n)))\n",
    "          "
   ]
  },
  {
   "cell_type": "code",
   "execution_count": null,
   "metadata": {},
   "outputs": [],
   "source": [
    "def get_gamma_ML(data, lamb, sig_vec):\n",
    "    Num_samps = data.shape[0]\n",
    "    signal_shift = np.pad(sig_vec, (lamb, max(Num_samps-lamb-15, 0)))[:Num_samps]\n",
    "    numer = np.sum(signal_shift*data)\n",
    "    denom = np.sum(np.square(sig_vec))\n",
    "    return numer/denom"
   ]
  },
  {
   "cell_type": "code",
   "execution_count": null,
   "metadata": {},
   "outputs": [],
   "source": [
    "get_gamma_ML(y4, offset, signal)"
   ]
  },
  {
   "cell_type": "code",
   "execution_count": null,
   "metadata": {},
   "outputs": [],
   "source": [
    "def get_log_model_evidence(data, lamb, sig_vec, noise_variance, prior_mean, prior_variance):\n",
    "    Num_samps = data.shape[0]\n",
    "    signal_shift = np.pad(sig_vec, (lamb, max(Num_samps-lamb-15, 0)))[:Num_samps]\n",
    "    \n",
    "    t1 = -Num_samps*np.log(2*np.pi)/2\n",
    "    t2 = -(Num_samps-1)*np.log(noise_variance)/2\n",
    "    t3 = -np.log(prior_variance*(np.sum(np.square(sig_vec))+noise_variance))/2\n",
    "    \n",
    "    t4 = np.sum(np.square(data))\n",
    "    t5 = noise_variance*np.square(prior_mean)/prior_variance\n",
    "    t6 = noise_variance*prior_mean/prior_variance + np.sum(data*signal_shift)\n",
    "    t7 = np.sum(np.square(sig_vec)) + noise_variance/prior_variance\n",
    "    \n",
    "    return t1+t2+t3 - (t4+t5-(np.square(t6))/t7)/(2*noise_variance)"
   ]
  },
  {
   "cell_type": "code",
   "execution_count": null,
   "metadata": {},
   "outputs": [],
   "source": [
    "get_log_model_evidence(y4, offset, signal, np.square(sigma_n), mu_gam_prior, ssq_gam_prior)"
   ]
  },
  {
   "cell_type": "code",
   "execution_count": null,
   "metadata": {},
   "outputs": [],
   "source": [
    "evidences = np.zeros(91)"
   ]
  },
  {
   "cell_type": "code",
   "execution_count": null,
   "metadata": {},
   "outputs": [],
   "source": [
    "for i in range(91):\n",
    "    evidences[i] = get_log_model_evidence(y4, i, signal, np.square(sigma_n), mu_gam_prior, ssq_gam_prior)"
   ]
  },
  {
   "cell_type": "code",
   "execution_count": null,
   "metadata": {},
   "outputs": [],
   "source": [
    "offset_est = np.argmax(evidences)\n",
    "offset_est"
   ]
  },
  {
   "cell_type": "code",
   "execution_count": null,
   "metadata": {},
   "outputs": [],
   "source": [
    "get_log_model_evidence(y4, offset_est, signal, np.square(sigma_n), 0, np.square(sigma_gamma))"
   ]
  },
  {
   "cell_type": "code",
   "execution_count": null,
   "metadata": {},
   "outputs": [],
   "source": [
    "plt.figure()\n",
    "plt.plot(np.arange(91), evidences)\n",
    "plt.title('True offset: {}, Estimated offset: {}, Gamma: {}, Noise Variance: {}'.format(offset, offset_est, round(gamma, 3), np.square(sigma_n)))\n",
    "plt.xlabel('lambda')\n",
    "plt.ylabel('log model evidence')"
   ]
  },
  {
   "cell_type": "code",
   "execution_count": null,
   "metadata": {},
   "outputs": [],
   "source": [
    "get_gamma_ML(y4, offset_est, signal)"
   ]
  },
  {
   "cell_type": "code",
   "execution_count": null,
   "metadata": {},
   "outputs": [],
   "source": [
    "def get_log_null_hypothesis(data, noise_variance):\n",
    "    Num_samps = data.shape[0]\n",
    "    return -Num_samps*np.log(2*np.pi*noise_variance)/2 - np.sum(np.square(data))/(2*noise_variance)"
   ]
  },
  {
   "cell_type": "code",
   "execution_count": null,
   "metadata": {},
   "outputs": [],
   "source": [
    "get_log_null_hypothesis(y4, sigma_n)"
   ]
  },
  {
   "cell_type": "code",
   "execution_count": null,
   "metadata": {},
   "outputs": [],
   "source": [
    "def get_gamma_posterior(data, lamb, sig_vec, noise_variance, prior_mean, prior_variance):\n",
    "    Num_samps = data.shape[0]\n",
    "    signal_shift = np.pad(sig_vec, (lamb, max(Num_samps-lamb-15, 0)))[:Num_samps]\n",
    "    \n",
    "    pos_mea = (noise_variance*prior_mean/prior_variance + np.sum(data*signal_shift))/(np.sum(np.square(sig_vec)) + noise_variance/prior_variance)\n",
    "    pos_var = (noise_variance)/(np.sum(np.square(sig_vec)) + noise_variance/prior_variance)\n",
    "    return pos_mea, pos_var\n",
    "\n",
    "\n",
    "def get_gamma_likelihood(data, lamb, sig_vec, noise_variance):\n",
    "    Num_samps = data.shape[0]\n",
    "    signal_shift = np.pad(sig_vec, (lamb, max(Num_samps-lamb-15, 0)))[:Num_samps]\n",
    "    \n",
    "    lik_mea = np.sum(data*signal_shift) / np.sum(np.square(sig_vec))\n",
    "    lik_var = noise_variance / np.sum(np.square(sig_vec))\n",
    "    return lik_mea, lik_var"
   ]
  },
  {
   "cell_type": "code",
   "execution_count": null,
   "metadata": {},
   "outputs": [],
   "source": [
    "#ssq_gam_prior = np.square(sigma_gamma)\n",
    "mu_gam_like, ssq_gam_like = get_gamma_likelihood(y4, offset_est, signal, np.square(sigma_n))\n",
    "mu_gam_post, ssq_gam_post = get_gamma_posterior(y4, offset_est, signal, np.square(sigma_n), mu_gam_prior, ssq_gam_prior)\n",
    "mu_gam_post"
   ]
  },
  {
   "cell_type": "code",
   "execution_count": null,
   "metadata": {},
   "outputs": [],
   "source": [
    "axis2 = np.linspace(-5, 5, num=10000)\n",
    "plt.figure()\n",
    "plt.plot(axis2, norm.pdf(axis2, loc=mu_gam_like, scale=np.sqrt(ssq_gam_like)), label='Likelihood')\n",
    "plt.plot(axis2, norm.pdf(axis2, loc=mu_gam_prior, scale=np.sqrt(ssq_gam_prior)), label='Prior')\n",
    "plt.plot(axis2, norm.pdf(axis2, loc=mu_gam_post, scale=np.sqrt(ssq_gam_post)), label='Posterior')\n",
    "plt.legend()\n",
    "plt.xlabel('gamma')"
   ]
  },
  {
   "cell_type": "code",
   "execution_count": null,
   "metadata": {},
   "outputs": [],
   "source": []
  }
 ],
 "metadata": {
  "kernelspec": {
   "display_name": "Python 3",
   "language": "python",
   "name": "python3"
  },
  "language_info": {
   "codemirror_mode": {
    "name": "ipython",
    "version": 3
   },
   "file_extension": ".py",
   "mimetype": "text/x-python",
   "name": "python",
   "nbconvert_exporter": "python",
   "pygments_lexer": "ipython3",
   "version": "3.7.6"
  }
 },
 "nbformat": 4,
 "nbformat_minor": 4
}
