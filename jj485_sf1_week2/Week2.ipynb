{
 "cells": [
  {
   "cell_type": "markdown",
   "metadata": {},
   "source": [
    "# Week 2\n",
    "\n",
    "Running this notebook will generate all samples that were included in the best entries folder. There are also some additional intermediate results for the male speech sample."
   ]
  },
  {
   "cell_type": "code",
   "execution_count": null,
   "metadata": {},
   "outputs": [],
   "source": [
    "import numpy as np\n",
    "import matplotlib.pyplot as plt\n",
    "%matplotlib notebook\n",
    "from scipy import signal\n",
    "from scipy.io import wavfile\n",
    "from sklearn.metrics import mean_squared_error\n",
    "from os import getcwd"
   ]
  },
  {
   "cell_type": "code",
   "execution_count": null,
   "metadata": {},
   "outputs": [],
   "source": [
    "# edit this to current directory if required\n",
    "cwd = getcwd()+'/'\n",
    "cwd"
   ]
  },
  {
   "cell_type": "code",
   "execution_count": null,
   "metadata": {},
   "outputs": [],
   "source": [
    "samplerate, piano_c = wavfile.read(cwd+'resources/week2/piano/piano_clean.wav')\n",
    "piano_c = piano_c.astype(np.float64)"
   ]
  },
  {
   "cell_type": "code",
   "execution_count": null,
   "metadata": {},
   "outputs": [],
   "source": [
    "# 1 channel piano recording\n",
    "N = piano_c.shape[0]\n",
    "N"
   ]
  },
  {
   "cell_type": "code",
   "execution_count": null,
   "metadata": {},
   "outputs": [],
   "source": [
    "Power = np.sqrt(np.mean(np.power(piano_c.astype(np.int32), 2)))\n",
    "noisep = 250\n",
    "Power"
   ]
  },
  {
   "cell_type": "code",
   "execution_count": null,
   "metadata": {},
   "outputs": [],
   "source": [
    "# generate noise\n",
    "noise = np.random.normal(scale=np.sqrt(noisep), size=N)\n",
    "np.mean(np.square(noise))"
   ]
  },
  {
   "cell_type": "code",
   "execution_count": null,
   "metadata": {},
   "outputs": [],
   "source": [
    "piano_n = piano_c.astype(np.float64) + noise\n",
    "piano_n.dtype"
   ]
  },
  {
   "cell_type": "code",
   "execution_count": null,
   "metadata": {},
   "outputs": [],
   "source": [
    "wavfile.write(cwd+'resources/week2/piano/piano_noisy.wav', samplerate, piano_n.astype(np.int16))"
   ]
  },
  {
   "cell_type": "markdown",
   "metadata": {},
   "source": [
    "### Short Time Fourier Transform"
   ]
  },
  {
   "cell_type": "code",
   "execution_count": null,
   "metadata": {},
   "outputs": [],
   "source": [
    "def wiener_gains(stft_data, noise_power, f, exponen, alph):\n",
    "    # length of dft and number of bins\n",
    "    nfs = stft_data.shape[0]\n",
    "    nbins = stft_data.shape[1]\n",
    "    # estimate of Power Spectrum\n",
    "    Sy = np.square(np.abs(stft_data))\n",
    "    # initialise gain matrix with the same shape as the stft data\n",
    "    gains = np.zeros(stft_data.shape)\n",
    "    # iterate over bins\n",
    "    for i in range(nbins):\n",
    "        # dft of the ith bin\n",
    "        current_frame = Sy[:,i]\n",
    "        # apply wiener rule, including maxing with zero\n",
    "        gains[:,i] = np.maximum((current_frame - alph*noise_power/np.power(f, exponen)) / (current_frame), np.zeros(nfs))\n",
    "    return gains\n",
    "\n",
    "def noise_reduction(audio, noise_estimate, fsamp, M, red_func, ov, window_t='hanning', expon=0, filter_spec=False, delt=0.5, alpha=1):\n",
    "    # check NOLA and COLA conditions\n",
    "    if (signal.check_COLA(window_t, M, ov) & signal.check_NOLA(window_t, M, ov)):\n",
    "        # take stft of the audio signal\n",
    "        freqs, _, Zxx = signal.stft(audio, fs=fsamp, window=window_t, nperseg=M, noverlap=ov)\n",
    "        norm_freqs = 2*np.pi * freqs / audio.shape[0]\n",
    "        # calculate gain matrix according to our choice of red_func\n",
    "        gains = red_func(Zxx, noise_estimate, norm_freqs, expon, alpha)\n",
    "        \n",
    "        if filter_spec:\n",
    "            gains = lpf(gains, delt)\n",
    "\n",
    "        # take inverse stft of gain data product to extract processed data\n",
    "        _, clean = signal.istft(Zxx*gains, fs=fsamp, window=window_t, nperseg=M, noverlap=ov)\n",
    "        return clean\n",
    "    else:\n",
    "        raise Exception(\"Window violates at least one of the NOLA or COLA conditions\")"
   ]
  },
  {
   "cell_type": "code",
   "execution_count": null,
   "metadata": {},
   "outputs": [],
   "source": [
    "data_clean = noise_reduction(piano_n, noisep, samplerate, 256, wiener_gains, ov=256/2)"
   ]
  },
  {
   "cell_type": "code",
   "execution_count": null,
   "metadata": {},
   "outputs": [],
   "source": [
    "wavfile.write(cwd+'resources/week2/piano/piano_cleaned.wav', samplerate, data_clean.astype(np.int16))"
   ]
  },
  {
   "cell_type": "code",
   "execution_count": null,
   "metadata": {},
   "outputs": [],
   "source": [
    "mean_squared_error(piano_c, piano_n), mean_squared_error(piano_c, data_clean)"
   ]
  },
  {
   "cell_type": "markdown",
   "metadata": {},
   "source": [
    "### Noise estimation"
   ]
  },
  {
   "cell_type": "code",
   "execution_count": null,
   "metadata": {},
   "outputs": [],
   "source": [
    "male_s_rate, male_s = wavfile.read(cwd+\"resources/week2/Noisy Audio/male/male_soft/male_speech_noisy_soft.wav\")\n",
    "male_s = male_s[:130000].astype(np.float64) # drop last sample for easier windowing\n",
    "M_male_s = 250\n",
    "N_male_s = male_s.shape[0]"
   ]
  },
  {
   "cell_type": "code",
   "execution_count": null,
   "metadata": {},
   "outputs": [],
   "source": [
    "male_s_noise = male_s[0:int(male_s_rate*1.713)]\n",
    "wavfile.write(cwd+\"resources/week2/Noisy Audio/male/male_soft/male_soft_noise.wav\", male_s_rate, male_s_noise.astype(np.int16))"
   ]
  },
  {
   "cell_type": "code",
   "execution_count": null,
   "metadata": {},
   "outputs": [],
   "source": [
    "def estimate_noise_est(noise_samp):\n",
    "    # mean square amplitude\n",
    "    return np.mean(np.square(noise_samp))"
   ]
  },
  {
   "cell_type": "code",
   "execution_count": null,
   "metadata": {},
   "outputs": [],
   "source": [
    "male_s_noise_p = estimate_noise_est(male_s_noise)\n",
    "male_s_noise_p"
   ]
  },
  {
   "cell_type": "code",
   "execution_count": null,
   "metadata": {},
   "outputs": [],
   "source": [
    "male_s_cleaned = noise_reduction(male_s, male_s_noise_p, male_s_rate, M_male_s, wiener_gains, ov=M_male_s/2)"
   ]
  },
  {
   "cell_type": "code",
   "execution_count": null,
   "metadata": {},
   "outputs": [],
   "source": [
    "wavfile.write(cwd+'resources/week2/Noisy Audio/male/male_soft/male_soft_cleaned_est.wav', male_s_rate, male_s_cleaned.astype(np.int16))"
   ]
  },
  {
   "cell_type": "markdown",
   "metadata": {},
   "source": [
    "# More complex techniques\n",
    "### Low pass filter noise estimation"
   ]
  },
  {
   "cell_type": "code",
   "execution_count": null,
   "metadata": {},
   "outputs": [],
   "source": [
    "def estimate_noise_lpf(noise_samp, gam):\n",
    "    # initialise average square noise value\n",
    "    ave_n = 0\n",
    "    gam_com = 1-gam\n",
    "    # first order low pass filter\n",
    "    for i in range(noise_samp.shape[0]):\n",
    "        ave_n = gam * ave_n + gam_com * np.square(noise_samp[i])\n",
    "        \n",
    "    return ave_n"
   ]
  },
  {
   "cell_type": "code",
   "execution_count": null,
   "metadata": {},
   "outputs": [],
   "source": [
    "Noise_ave_sq = estimate_noise_lpf(male_s_noise, 0.85)"
   ]
  },
  {
   "cell_type": "code",
   "execution_count": null,
   "metadata": {},
   "outputs": [],
   "source": [
    "Noise_ave_sq"
   ]
  },
  {
   "cell_type": "code",
   "execution_count": null,
   "metadata": {},
   "outputs": [],
   "source": [
    "male_s_cleaned_lpf = noise_reduction(male_s, Noise_ave_sq, male_s_rate, M_male_s, wiener_gains, ov=M_male_s/2)\n",
    "wavfile.write(cwd'resources/week2/Noisy Audio/male/male_soft/male_soft_cleaned_lpf.wav', male_s_rate, male_s_cleaned_lpf.astype(np.int16))"
   ]
  },
  {
   "cell_type": "markdown",
   "metadata": {},
   "source": [
    "### Low pass filter of processed spectrum"
   ]
  },
  {
   "cell_type": "code",
   "execution_count": null,
   "metadata": {},
   "outputs": [],
   "source": [
    "def lpf(stft_data, delta):\n",
    "    nfs = stft_data.shape[0]\n",
    "    nbins = stft_data.shape[1]\n",
    "    abs_data = np.abs(stft_data)\n",
    "    for i in range(nfs):\n",
    "        current_frame = abs_data[i,:]\n",
    "        # lpf each frequency spectrum\n",
    "        for j in range(1, nbins):\n",
    "            current_frame[j] = delta*current_frame[j-1] + (1-delta)*current_frame[j]\n",
    "        abs_data[i,:] = current_frame\n",
    "    return abs_data"
   ]
  },
  {
   "cell_type": "code",
   "execution_count": null,
   "metadata": {},
   "outputs": [],
   "source": [
    "male_s_cleaned_filtered = noise_reduction(male_s, Noise_ave_sq, male_s_rate, M_male_s, wiener_gains, ov=M_male_s/2, filter_spec=True, delt=0.9)\n",
    "wavfile.write(cwd+'resources/week2/Noisy Audio/male/male_soft/male_soft_cleaned_lpf_filtered.wav', male_s_rate, male_s_cleaned_filtered.astype(np.int16))"
   ]
  },
  {
   "cell_type": "markdown",
   "metadata": {},
   "source": [
    "### Noise oversubtraction"
   ]
  },
  {
   "cell_type": "code",
   "execution_count": null,
   "metadata": {},
   "outputs": [],
   "source": [
    "'''def floor_gains(stft_data, noise_power, alpha, beta):\n",
    "    nfs = stft_data.shape[0]\n",
    "    nbins = stft_data.shape[1]\n",
    "    abs_data = np.square(np.abs(stft_data))\n",
    "    gains = np.zeros(stft_data.shape)\n",
    "    # bin number i\n",
    "    for i in range(nbins):\n",
    "        current_frame = abs_data[:,i]\n",
    "        gains[:,i] = np.maximum(beta*current_frame, (current_frame-alpha*(noise_power)))/current_frame\n",
    "    return gains'''"
   ]
  },
  {
   "cell_type": "code",
   "execution_count": null,
   "metadata": {},
   "outputs": [],
   "source": [
    "#dipper_gains_floor = floor_gains(Zdipper, Noise_ave_sq_dip, 2, 0.01)\n",
    "#_, dipper_cleaned_floor = signal.istft(Zdipper*dipper_gains_floor, fs=dipperrate, window='hanning', nperseg=M_dipper, noverlap=None)"
   ]
  },
  {
   "cell_type": "code",
   "execution_count": null,
   "metadata": {},
   "outputs": [],
   "source": [
    "#wavfile.write(cwd+'resources/week2/Noisy Audio/dipper/dipper_cleaned_floor.wav', dipperrate, dipper_cleaned_floor.astype(np.int16))"
   ]
  },
  {
   "cell_type": "markdown",
   "metadata": {},
   "source": [
    "### Coloured noise"
   ]
  },
  {
   "cell_type": "code",
   "execution_count": null,
   "metadata": {},
   "outputs": [],
   "source": [
    "male_c_rate, male_c = wavfile.read(cwd+\"resources/week2/Noisy Audio/male/male_col/male_speech_noisy_col.wav\")\n",
    "male_c = male_c[:130000].astype(np.float64) # drop last sample for easier windowing\n",
    "M_male_c = 2048\n",
    "N_male_c = male_c.shape[0]\n",
    "N_male_c"
   ]
  },
  {
   "cell_type": "code",
   "execution_count": null,
   "metadata": {},
   "outputs": [],
   "source": [
    "male_c_noise = male_c[0:int(male_c_rate*1.7)]\n",
    "wavfile.write(cwd+\"resources/week2/Noisy Audio/male/male_col/male_col_noise.wav\", male_c_rate, male_c_noise.astype(np.int16))"
   ]
  },
  {
   "cell_type": "code",
   "execution_count": null,
   "metadata": {},
   "outputs": [],
   "source": [
    "wind = signal.windows.hann(M_male_c)\n",
    "window_padded = np.pad(wind, (0, male_c_noise.shape[0]-M_male_c))\n",
    "axis = np.fft.fftshift(np.fft.fftfreq(male_c_noise.shape[0]))"
   ]
  },
  {
   "cell_type": "code",
   "execution_count": null,
   "metadata": {},
   "outputs": [],
   "source": [
    "def fit_least_squares_1(noise_sample , w, range_low, range_high, M):\n",
    "    # frequency axis\n",
    "    axis = np.fft.fftshift(np.fft.fftfreq(noise_sample.shape[0]))\n",
    "    # window the noise\n",
    "    wind = signal.windows.hann(M)\n",
    "    window_padded = np.pad(wind, (0, noise_sample.shape[0]-M))\n",
    "    # find windowed noise specturm \n",
    "    ft = np.fft.fftshift((np.abs(np.fft.fft(noise_sample*window_padded))))\n",
    "    # smooth the spectrum \n",
    "    Sn = np.convolve(ft, np.ones(w), 'same')/w\n",
    "    # least squares solution on specified range\n",
    "    A = np.sum(np.divide(Sn[range_low:range_high], np.abs(axis[range_low:range_high]))) / np.sum(np.divide(1, np.square(axis[range_low:range_high])))\n",
    "    return A\n",
    "\n",
    "def fit_least_squares_2(noise_sample , w, range_low, range_high, M):\n",
    "    # frequency axis\n",
    "    axis = np.fft.fftshift(np.fft.fftfreq(noise_sample.shape[0]))\n",
    "    # window the noise\n",
    "    wind = signal.windows.hann(M)\n",
    "    window_padded = np.pad(wind, (0, noise_sample.shape[0]-M))\n",
    "    # find windowed noise specturm \n",
    "    ft = np.fft.fftshift((np.abs(np.fft.fft(noise_sample*window_padded))))\n",
    "    # smooth the spectrum \n",
    "    Sn = np.convolve(ft, np.ones(w), 'same')/w\n",
    "    # least squares solution on specified range\n",
    "    A = np.sum(np.divide(Sn[range_low:range_high], np.square(axis[range_low:range_high]))) / np.sum(np.divide(1, np.power(axis[range_low:range_high], 4)))\n",
    "    return A"
   ]
  },
  {
   "cell_type": "code",
   "execution_count": null,
   "metadata": {},
   "outputs": [],
   "source": [
    "A = fit_least_squares_1(male_c_noise, 150, 15000, 24000, 2048)\n",
    "A"
   ]
  },
  {
   "cell_type": "code",
   "execution_count": null,
   "metadata": {},
   "outputs": [],
   "source": [
    "B = fit_least_squares_2(male_c_noise, 150, 15000, 24000, 2048)\n",
    "B"
   ]
  },
  {
   "cell_type": "code",
   "execution_count": null,
   "metadata": {},
   "outputs": [],
   "source": [
    "plt.figure()\n",
    "ft = np.fft.fftshift((np.abs(np.fft.fft(male_c_noise*window_padded))))\n",
    "w=150\n",
    "Sn = np.convolve(ft, np.ones(w), 'same')/w\n",
    "plt.plot(axis, np.log(Sn), label='smoothed data')\n",
    "plt.plot(axis, np.log(np.abs(np.divide(B, axis**2))), label='1/f^2')\n",
    "plt.plot(axis, np.log(np.abs(np.divide(A, axis))), label='1/f')\n",
    "plt.xlabel('Theta')\n",
    "plt.ylabel('Magnitude')\n",
    "plt.ylim(4, 10)\n",
    "plt.legend(loc='upper left')"
   ]
  },
  {
   "cell_type": "code",
   "execution_count": null,
   "metadata": {},
   "outputs": [],
   "source": [
    "male_c_cleaned = noise_reduction(male_c, A, male_c_rate, 150, wiener_gains, 150/2, expon=1, filter_spec=True, delt=0.9)"
   ]
  },
  {
   "cell_type": "code",
   "execution_count": null,
   "metadata": {},
   "outputs": [],
   "source": [
    "wavfile.write(cwd+'resources/week2/Noisy Audio/male/male_col/male_col_cleaned.wav', male_c_rate, male_c_cleaned.astype(np.int16))"
   ]
  },
  {
   "cell_type": "markdown",
   "metadata": {},
   "source": [
    "### Male speech with loud Noise"
   ]
  },
  {
   "cell_type": "code",
   "execution_count": null,
   "metadata": {},
   "outputs": [],
   "source": [
    "male_l_rate, male_l = wavfile.read(cwd+\"resources/week2/Noisy Audio/male/male_loud/male_speech_noisy_loud.wav\")\n",
    "male_l = male_l[:130000].astype(np.float64) # drop last sample for easier windowing\n",
    "M_male_l = 250\n",
    "N_male_l = male_l.shape[0]"
   ]
  },
  {
   "cell_type": "code",
   "execution_count": null,
   "metadata": {},
   "outputs": [],
   "source": [
    "male_l_noise = male_l[0:int(male_l_rate*1.713)]\n",
    "male_l_noise_squared = estimate_noise_lpf(male_l_noise, 0.85)\n",
    "male_l_noise_squared"
   ]
  },
  {
   "cell_type": "code",
   "execution_count": null,
   "metadata": {},
   "outputs": [],
   "source": [
    "male_l_cleaned = noise_reduction(male_l, male_l_noise_squared, male_l_rate, 250, wiener_gains, 250/2, filter_spec=True, delt=0.85, alpha=1)\n"
   ]
  },
  {
   "cell_type": "code",
   "execution_count": null,
   "metadata": {},
   "outputs": [],
   "source": [
    "wavfile.write(cwd+'resources/week2/Noisy Audio/male/male_loud/male_loud_cleaned_lpf_filtered.wav', male_l_rate, male_l_cleaned.astype(np.int16))"
   ]
  },
  {
   "cell_type": "markdown",
   "metadata": {},
   "source": [
    "### Female speech\n",
    "\n",
    "#### Soft"
   ]
  },
  {
   "cell_type": "code",
   "execution_count": null,
   "metadata": {},
   "outputs": [],
   "source": [
    "female_s_rate, female_s = wavfile.read(cwd+\"resources/week2/Noisy Audio/female/female_soft/female_speech_noisy_soft.wav\")\n",
    "female_s = female_s[:120000].astype(np.float64) # drop last sample for easier windowing\n",
    "N_female_s = female_s.shape[0]\n",
    "N_female_s"
   ]
  },
  {
   "cell_type": "code",
   "execution_count": null,
   "metadata": {},
   "outputs": [],
   "source": [
    "female_s_noise = female_s[0:int(female_s_rate*0.40)]\n",
    "female_s_noise_squared = estimate_noise_lpf(female_s_noise, 0.99)\n",
    "female_s_noise_squared"
   ]
  },
  {
   "cell_type": "code",
   "execution_count": null,
   "metadata": {},
   "outputs": [],
   "source": [
    "female_s_cleaned = noise_reduction(female_s, female_s_noise_squared, female_s_rate, 300, wiener_gains, 300/2, filter_spec=True, delt=0.9, alpha=1)"
   ]
  },
  {
   "cell_type": "code",
   "execution_count": null,
   "metadata": {},
   "outputs": [],
   "source": [
    "wavfile.write(cwd+'resources/week2/Noisy Audio/female/female_soft/female_soft_cleaned_lpf_filtered.wav', female_s_rate, female_s_cleaned.astype(np.int16))\n"
   ]
  },
  {
   "cell_type": "markdown",
   "metadata": {},
   "source": [
    "### Loud"
   ]
  },
  {
   "cell_type": "code",
   "execution_count": null,
   "metadata": {},
   "outputs": [],
   "source": [
    "female_l_rate, female_l = wavfile.read(cwd+\"resources/week2/Noisy Audio/female/female_loud/female_speech_noisy_loud.wav\")\n",
    "female_l = female_l[:120000].astype(np.float64) # drop last sample for easier windowing\n",
    "N_female_l = female_l.shape[0]\n",
    "N_female_l"
   ]
  },
  {
   "cell_type": "code",
   "execution_count": null,
   "metadata": {},
   "outputs": [],
   "source": [
    "female_l_noise = female_l[0:int(female_l_rate*0.40)]\n",
    "female_l_noise_squared = estimate_noise_lpf(female_l_noise, 0.99)\n",
    "female_l_noise_squared"
   ]
  },
  {
   "cell_type": "code",
   "execution_count": null,
   "metadata": {},
   "outputs": [],
   "source": [
    "female_l_cleaned = noise_reduction(female_l, female_l_noise_squared, female_l_rate, 300, wiener_gains, 225, filter_spec=True, delt=0.8, alpha=1)\n"
   ]
  },
  {
   "cell_type": "code",
   "execution_count": null,
   "metadata": {},
   "outputs": [],
   "source": [
    "wavfile.write(cwd+'resources/week2/Noisy Audio/female/female_loud/female_loud_cleaned_lpf_filtered.wav', female_l_rate, female_l_cleaned.astype(np.int16))"
   ]
  },
  {
   "cell_type": "markdown",
   "metadata": {},
   "source": [
    "#### Coloured"
   ]
  },
  {
   "cell_type": "code",
   "execution_count": null,
   "metadata": {},
   "outputs": [],
   "source": [
    "female_c_rate, female_c = wavfile.read(cwd+\"resources/week2/Noisy Audio/female/female_col/female_speech_noisy_col.wav\")\n",
    "female_c = female_c[:120000].astype(np.float64) # drop last sample for easier windowing\n",
    "M_female_c = 2048\n",
    "N_female_c = female_c.shape[0]\n",
    "N_female_c"
   ]
  },
  {
   "cell_type": "code",
   "execution_count": null,
   "metadata": {},
   "outputs": [],
   "source": [
    "female_c_noise = female_c[0:int(female_c_rate*0.4)]\n",
    "wavfile.write(cwd+\"resources/week2/Noisy Audio/female/female_col/female_col_noise.wav\", female_c_rate, female_c_noise.astype(np.int16))"
   ]
  },
  {
   "cell_type": "code",
   "execution_count": null,
   "metadata": {},
   "outputs": [],
   "source": [
    "wind_f = signal.windows.hann(M_female_c)\n",
    "window_padded_f = np.pad(wind_f, (0, female_c_noise.shape[0]-M_female_c))\n",
    "axisf = np.fft.fftshift(np.fft.fftfreq(female_c_noise.shape[0]))"
   ]
  },
  {
   "cell_type": "code",
   "execution_count": null,
   "metadata": {},
   "outputs": [],
   "source": [
    "Af = fit_least_squares_1(female_c_noise, 150, 4000, 6000, 2048)\n",
    "Af"
   ]
  },
  {
   "cell_type": "code",
   "execution_count": null,
   "metadata": {},
   "outputs": [],
   "source": [
    "Bf = fit_least_squares_2(female_c_noise, 150, 4000, 6000, 2048)\n",
    "Bf"
   ]
  },
  {
   "cell_type": "code",
   "execution_count": null,
   "metadata": {},
   "outputs": [],
   "source": [
    "plt.figure()\n",
    "ftf = np.fft.fftshift((np.abs(np.fft.fft(female_c_noise*window_padded_f))))\n",
    "wf=150\n",
    "Snf = np.convolve(ftf, np.ones(wf), 'same')/wf\n",
    "plt.plot(axisf, np.log(Snf), label='smoothed data')\n",
    "plt.plot(axisf, np.log(np.abs(np.divide(Bf, axisf**2))), label='1/f^2')\n",
    "plt.plot(axisf, np.log(np.abs(np.divide(Af, axisf))), label='1/f')\n",
    "plt.xlabel('Theta')\n",
    "plt.ylabel('Magnitude')\n",
    "plt.ylim(4, 10)\n",
    "plt.legend(loc='upper left')"
   ]
  },
  {
   "cell_type": "code",
   "execution_count": null,
   "metadata": {},
   "outputs": [],
   "source": [
    "female_c_cleaned = noise_reduction(female_c, Af, female_c_rate, 300, wiener_gains, 300/2, expon=1, filter_spec=True, delt=0.85)"
   ]
  },
  {
   "cell_type": "code",
   "execution_count": null,
   "metadata": {},
   "outputs": [],
   "source": [
    "wavfile.write(cwd+'resources/week2/Noisy Audio/female/female_col/female_col_cleaned.wav', female_c_rate, female_c_cleaned.astype(np.int16))"
   ]
  },
  {
   "cell_type": "markdown",
   "metadata": {},
   "source": [
    "### Dipper"
   ]
  },
  {
   "cell_type": "code",
   "execution_count": null,
   "metadata": {},
   "outputs": [],
   "source": [
    "dipperrate, dipper = wavfile.read(cwd+'resources/week2/Noisy Audio/dipper/dipper.wav')\n",
    "dipper = dipper.astype(np.int64)"
   ]
  },
  {
   "cell_type": "code",
   "execution_count": null,
   "metadata": {},
   "outputs": [],
   "source": [
    "dipper_noise = dipper[:int(0.5*dipperrate)]\n",
    "dipper_noise_est = estimate_noise_lpf(dipper_noise, 0.6)\n",
    "dipper_noise_est"
   ]
  },
  {
   "cell_type": "code",
   "execution_count": null,
   "metadata": {},
   "outputs": [],
   "source": [
    "dipper_cleaned = noise_reduction(dipper, dipper_noise_est, dipperrate, 400, wiener_gains, 300, filter_spec=True, delt=0.9, alpha=1)\n"
   ]
  },
  {
   "cell_type": "code",
   "execution_count": null,
   "metadata": {},
   "outputs": [],
   "source": [
    "wavfile.write(cwd+'resources/week2/Noisy Audio/dipper/dipper_cleaned.wav', dipperrate, dipper_cleaned.astype(np.int16))\n"
   ]
  },
  {
   "cell_type": "markdown",
   "metadata": {},
   "source": [
    "### Fast piano noisy"
   ]
  },
  {
   "cell_type": "code",
   "execution_count": null,
   "metadata": {},
   "outputs": [],
   "source": [
    "fastrate, fast = wavfile.read(cwd+'resources/week2/Noisy Audio/fast_n/fast_n.wav')\n",
    "fast = fast.astype(np.int64)"
   ]
  },
  {
   "cell_type": "code",
   "execution_count": null,
   "metadata": {},
   "outputs": [],
   "source": [
    "fast_noise = fast[int(11.4*fastrate):int(11.6*fastrate)]\n",
    "fast_noise_est = estimate_noise_lpf(fast, 0.7)\n",
    "fast_noise_est"
   ]
  },
  {
   "cell_type": "code",
   "execution_count": null,
   "metadata": {},
   "outputs": [],
   "source": [
    "fast_cleaned_left = noise_reduction(fast[:,0], fast_noise_est[0], fastrate, 250, wiener_gains, 125, filter_spec=True, delt=0.8, alpha=1)\n",
    "fast_cleaned_right = noise_reduction(fast[:,1], fast_noise_est[1], fastrate, 250, wiener_gains, 125, filter_spec=True, delt=0.8, alpha=1)"
   ]
  },
  {
   "cell_type": "code",
   "execution_count": null,
   "metadata": {},
   "outputs": [],
   "source": [
    "fast_cleaned = np.vstack((fast_cleaned_left, fast_cleaned_right))\n",
    "fast_cleaned = fast_cleaned.T"
   ]
  },
  {
   "cell_type": "code",
   "execution_count": null,
   "metadata": {},
   "outputs": [],
   "source": [
    "wavfile.write(cwd+'resources/week2/Noisy Audio/fast_n/fast_n_cleaned.wav', fastrate, fast_cleaned.astype(np.int16))"
   ]
  }
 ],
 "metadata": {
  "kernelspec": {
   "display_name": "Python 3",
   "language": "python",
   "name": "python3"
  },
  "language_info": {
   "codemirror_mode": {
    "name": "ipython",
    "version": 3
   },
   "file_extension": ".py",
   "mimetype": "text/x-python",
   "name": "python",
   "nbconvert_exporter": "python",
   "pygments_lexer": "ipython3",
   "version": "3.7.6"
  }
 },
 "nbformat": 4,
 "nbformat_minor": 4
}
